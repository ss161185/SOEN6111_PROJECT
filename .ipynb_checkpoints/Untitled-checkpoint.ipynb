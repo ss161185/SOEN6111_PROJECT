{
 "cells": [
  {
   "cell_type": "code",
   "execution_count": 48,
   "id": "4fd65b70-8dcb-4e44-9e7f-63b40e119fad",
   "metadata": {},
   "outputs": [],
   "source": [
    "# Importing libraries and setting the path.\n",
    "\n",
    "import numpy as np\n",
    "import pandas as pd\n",
    "import os\n",
    "import matplotlib.pyplot as plt\n",
    "\n",
    "from sklearn.model_selection import train_test_split\n",
    "from sklearn.metrics import mean_absolute_error\n",
    "\n",
    "from pyspark.sql import SparkSession\n",
    "from pyspark.sql.functions import col\n",
    "\n",
    "\n",
    "import warnings\n",
    "warnings.filterwarnings('ignore')\n",
    "\n",
    "# path = '/Users/shubhangkhattar/Desktop/SOEN6111_PROJECT/archive/A_DeviceMotion_data/A_DeviceMotion_data/'\n",
    "path = 'kaggle/input/motionsense-dataset/A_DeviceMotion_data/A_DeviceMotion_data/'\n",
    "\n",
    "# path = '/kaggle/input/motionsense-dataset/A_DeviceMotion_data/A_DeviceMotion_data/'"
   ]
  },
  {
   "cell_type": "code",
   "execution_count": 60,
   "id": "63bdfcea-5b6d-4a7b-af5b-ab7764a38063",
   "metadata": {},
   "outputs": [],
   "source": [
    "# Setting up lists for importing the data.\n",
    "\n",
    "list_of_folders = os.listdir(path)\n",
    "list_of_directories = [path + i for i in list_of_folders]\n",
    "list_of_dfs = []\n",
    "\n",
    "\n",
    "activities = ['dws', 'ups', 'sit', 'std', 'wlk', 'jog']\n",
    "\n",
    "# Iterating through the directories and appending the dataframes for each subject in each of the trials to a list for further use.\n",
    "\n",
    "for i in list_of_directories:\n",
    "           \n",
    "    if \".DS_Store\" in i:\n",
    "        continue\n",
    "    \n",
    "    list_of_csv = os.listdir(i)\n",
    "    \n",
    "    for j in list_of_csv:\n",
    "        k = pd.read_csv(i + '/' + j).rename(columns={'Unnamed: 0': 'time'})\n",
    "        k['subject'] = int(j.split('_')[1].split('.')[0])\n",
    "        k['activity'] = i.split('/')[-1].split('_')[0]\n",
    "        k['trial'] = int(i.split('/')[-1].split('_')[1])\n",
    "        k.insert(0, 'accel_x', k['userAcceleration.x'] + k['gravity.x'])\n",
    "        k.insert(1, 'accel_y', k['userAcceleration.y'] + k['gravity.y'])\n",
    "        k.insert(2, 'accel_z', k['userAcceleration.z'] + k['gravity.z'])\n",
    "        k.insert(3, 'accel_norm', np.sqrt(k['accel_x']**2 + k['accel_y']**2 + k['accel_z']**2))\n",
    "        list_of_dfs.append(k)\n",
    "\n",
    "# Creating one big dataframe (df) from the list of all individual dataframes. Dropping unnecessary columns and renaming the ones for rotation.\n",
    "\n",
    "df = pd.concat(list_of_dfs).set_index('time')\n",
    "df = df.drop(['attitude.roll', 'attitude.pitch', 'attitude.yaw', 'gravity.x', 'gravity.y', 'gravity.z', 'userAcceleration.x', 'userAcceleration.y', 'userAcceleration.z'], axis=1)\n",
    "df = df.rename(columns={'rotationRate.x': 'gyro_x', 'rotationRate.y': 'gyro_y', 'rotationRate.z': 'gyro_z'})\n",
    "\n"
   ]
  },
  {
   "cell_type": "code",
   "execution_count": 29,
   "id": "6f529b28-b320-4655-99c6-1a61f5e6d915",
   "metadata": {},
   "outputs": [
    {
     "data": {
      "text/plain": [
       "Index(['accel_x', 'accel_y', 'accel_z', 'accel_norm', 'gyro_x', 'gyro_y',\n",
       "       'gyro_z', 'subject', 'activity', 'trial'],\n",
       "      dtype='object')"
      ]
     },
     "execution_count": 29,
     "metadata": {},
     "output_type": "execute_result"
    }
   ],
   "source": [
    "df.columns"
   ]
  },
  {
   "cell_type": "code",
   "execution_count": 61,
   "id": "80bc968d-6576-402b-900a-ef8ded6e8c68",
   "metadata": {},
   "outputs": [
    {
     "ename": "SyntaxError",
     "evalue": "invalid syntax (3348086067.py, line 38)",
     "output_type": "error",
     "traceback": [
      "\u001b[0;36m  File \u001b[0;32m\"/var/folders/5s/c7pshfq90w9ccjykz9kg_yfw0000gn/T/ipykernel_99154/3348086067.py\"\u001b[0;36m, line \u001b[0;32m38\u001b[0m\n\u001b[0;31m    list_of_dfs.append(k)\u001b[0m\n\u001b[0m    ^\u001b[0m\n\u001b[0;31mSyntaxError\u001b[0m\u001b[0;31m:\u001b[0m invalid syntax\n"
     ]
    }
   ],
   "source": [
    "\n",
    "spark = SparkSession.builder.appName('SOEN_PROJECT').getOrCreate()\n",
    "\n",
    "for i in list_of_directories:\n",
    "           \n",
    "    if \".DS_Store\" in i:\n",
    "        continue\n",
    "    \n",
    "    list_of_csv = os.listdir(i)\n",
    "    \n",
    "    for j in list_of_csv:\n",
    "        \n",
    "        # k = pd.read_csv(i + '/' + j).rename(columns={'Unnamed: 0': 'time'})\n",
    "        \n",
    "        k = spark.read.csv(i + '/' + j, sep=',',inferSchema=True, header=True)  \n",
    "        k = k.withColumn(\"subject\", int(j.split('_')[1].split('.')[0])\n",
    "        k = k.withColumn(\"activity\", str(i.split('/')[-1].split('_')[0]))\n",
    "        k = k.withColumn(\"trial\", int(i.split('/')[-1].split('_')[1]))\n",
    "                         \n",
    "        \n",
    "                         \n",
    "        # k = k.withColumn('accel_x',k.userAcceleration.x + k.Discount)\n",
    "        # col(\"`userAcceleration.x`\") + col(\"`gravity.x`\") \n",
    "        \n",
    "        k = k.withColumn('accel_x',col(\"`userAcceleration.x`\") + col(\"`gravity.x`\"))\n",
    "        k = k.withColumn('accel_y',col(\"`userAcceleration.y`\") + col(\"`gravity.y`\"))\n",
    "        k = k.withColumn('accel_z',col(\"`userAcceleration.z`\") + col(\"`gravity.z`\"))\n",
    "        k = k.withColumn('accel_norm',np.sqrt(k.accel_x**2 + k.accel_y**2 + k.accel_z**2)\n",
    "        \n",
    "        # k['subject'] = int(j.split('_')[1].split('.')[0])\n",
    "        # k['activity'] = i.split('/')[-1].split('_')[0]\n",
    "        # k['trial'] = int(i.split('/')[-1].split('_')[1])\n",
    "                         \n",
    "                         \n",
    "        # k.insert(0, 'accel_x', k['userAcceleration.x'] + k['gravity.x'])\n",
    "        # k.insert(1, 'accel_y', k['userAcceleration.y'] + k['gravity.y'])\n",
    "        # k.insert(2, 'accel_z', k['userAcceleration.z'] + k['gravity.z'])\n",
    "        # k.insert(3, 'accel_norm', np.sqrt(k['accel_x']**2 + k['accel_y']**2 + k['accel_z']**2))\n",
    "        \n",
    "        list_of_dfs.append(k)\n",
    "\n",
    "# Creating one big dataframe (df) from the list of all individual dataframes. Dropping unnecessary columns and renaming the ones for rotation.\n",
    "\n",
    "df = pd.concat(list_of_dfs).set_index('time')\n",
    "df = df.drop(['attitude.roll', 'attitude.pitch', 'attitude.yaw', 'gravity.x', 'gravity.y', 'gravity.z', 'userAcceleration.x', 'userAcceleration.y', 'userAcceleration.z'], axis=1)\n",
    "df = df.rename(columns={'rotationRate.x': 'gyro_x', 'rotationRate.y': 'gyro_y', 'rotationRate.z': 'gyro_z'})"
   ]
  },
  {
   "cell_type": "code",
   "execution_count": 54,
   "id": "67061d52-54e0-4730-ac56-2f46b797a5fa",
   "metadata": {},
   "outputs": [
    {
     "name": "stdout",
     "output_type": "stream",
     "text": [
      "23/03/03 01:52:03 WARN CSVHeaderChecker: CSV header does not conform to the schema.\n",
      " Header: , attitude.roll, attitude.pitch, attitude.yaw, gravity.x, gravity.y, gravity.z, rotationRate.x, rotationRate.y, rotationRate.z, userAcceleration.x, userAcceleration.y, userAcceleration.z\n",
      " Schema: _c0, attitude.roll, attitude.pitch, attitude.yaw, gravity.x, gravity.y, gravity.z, rotationRate.x, rotationRate.y, rotationRate.z, userAcceleration.x, userAcceleration.y, userAcceleration.z\n",
      "Expected: _c0 but found: \n",
      "CSV file: file:///Users/shubhangkhattar/Desktop/SOEN6111_PROJECT/kaggle/input/motionsense-dataset/A_DeviceMotion_data/A_DeviceMotion_data/dws_11/sub_12.csv\n",
      "+---+-------------------+-------------------+-------------------+--------------------+------------------+--------------------+-------------------+--------------------+--------------------+--------------------+-------------------+--------------------+--------------------+------------------+--------------------+\n",
      "|_c0|      attitude.roll|     attitude.pitch|       attitude.yaw|           gravity.x|         gravity.y|           gravity.z|     rotationRate.x|      rotationRate.y|      rotationRate.z|  userAcceleration.x| userAcceleration.y|  userAcceleration.z|             accel_x|           accel_y|             accel_z|\n",
      "+---+-------------------+-------------------+-------------------+--------------------+------------------+--------------------+-------------------+--------------------+--------------------+--------------------+-------------------+--------------------+--------------------+------------------+--------------------+\n",
      "|  0|          -2.116381|          -1.077507|          -2.261502|-0.40476799999999996|0.8807799999999999| 0.24571300000000001|-1.2642149999999999|           -1.027909|           -0.947909|            0.282683|          -0.254346|            -0.40767|-0.12208499999999994|0.6264339999999999|-0.16195699999999996|\n",
      "|  1|          -2.148154|          -1.049759|          -2.284278|-0.41708100000000004|          0.867303| 0.27168600000000004|          -1.162024|-0.26911799999999997|           -0.848823|            0.256712|           0.079154|           -0.560291|-0.16036900000000004|0.9464570000000001|-0.28860499999999994|\n",
      "|  2|          -2.153824|          -1.026749|-2.2970080000000004|-0.43208199999999997|          0.855621|            0.284961|          -0.665042|             0.52017|           -0.726722|              0.2536|0.34668000000000004|           -0.463275|-0.17848199999999997|          1.202301|-0.17831399999999997|\n",
      "|  3|          -2.142509|          -1.012749|          -2.290595|-0.44531099999999996|          0.848291|            0.286507|          -0.079809|            0.055322|           -0.604534|            0.411818|           0.459372|           -0.510293|-0.03349299999999994|          1.307663|-0.22378599999999998|\n",
      "|  4|          -2.130486|          -1.007262|          -2.274149|           -0.452661|0.8453719999999999|              0.2836|0.45609700000000003|           -0.186877|-0.44131499999999996|            0.311594|0.47730500000000003|           -0.925049|           -0.141067|1.3226769999999999| -0.6414489999999999|\n",
      "|  5|          -2.098475|          -1.009309|          -2.228682|-0.46001000000000003|          0.846464| 0.26809499999999997| 1.5312729999999999|            -0.36908|           -0.563895| 0.43906000000000006| 0.8654350000000001|           -0.713026|-0.02094999999999997|          1.711899| -0.4449310000000001|\n",
      "|  6|          -2.040814|          -1.022818|          -2.150903|           -0.464458|0.8535790000000001| 0.23593899999999998|           2.413919|-0.48834399999999994|           -0.275566|  0.6020310000000001|           1.043683|-0.48483999999999994|  0.1375730000000001|          1.897262|-0.24890099999999996|\n",
      "|  7|          -1.964881|          -1.047368|-2.0451509999999997|           -0.461525|0.8661110000000001|             0.19192|             3.3099|           -0.802186|            0.175475|            0.598076|           0.781274|           -0.278391| 0.13655100000000003|          1.647385|-0.08647099999999999|\n",
      "|  8|          -1.854589|          -1.081505|-1.9073689999999999|           -0.451187|          0.882666|            0.131596|           3.873452|           -0.347702|            0.582617|-0.02586399999999...|           0.590158|           -0.174564|           -0.477051|          1.472824|-0.04296800000000...|\n",
      "|  9|          -1.721271|          -1.113173|-1.7446560000000002|-0.43681099999999995|0.8971049999999999|             0.06623|           3.941157|            -0.61985|  0.9156559999999999|            0.031401|           0.466558|0.046685000000000004|-0.40540999999999994|1.3636629999999998|            0.112915|\n",
      "| 10|          -1.578385|          -1.146779|          -1.579809|             -0.4114|          0.911444|0.003121999999999...|           3.408064|            -0.01811|  1.6781439999999999|            0.225304|           0.469034|            0.666647|-0.18609599999999998|          1.380478|            0.669769|\n",
      "| 11|          -1.419538|          -1.180182|          -1.422941|           -0.376395|          0.924675|-0.05737100000000...|           2.738442|            1.231863|  1.8908509999999998|           -0.134148| 0.7017439999999999|  0.8544290000000001|           -0.510543|1.6264189999999998|            0.797058|\n",
      "| 12|          -1.271528|          -1.200903|          -1.291996|           -0.345434|          0.932366|-0.10657799999999999|           1.717196|  1.0450629999999999|            1.272934|-0.26200300000000004|           0.712623|  0.6846270000000001|           -0.607437|          1.644989|  0.5780490000000001|\n",
      "| 13|          -1.181317|          -1.211992|          -1.202443|           -0.324844|          0.936317|           -0.133331|           1.159014|            0.043442|            1.023559|           -0.206742|           0.383797|            0.174804|           -0.531586|          1.320114| 0.04147299999999998|\n",
      "| 14|          -1.099968|          -1.225198|           -1.11944|           -0.301888|          0.940873|-0.15366300000000002|           0.964032|            0.422067|            1.345383|0.003486999999999...|           0.241256| 0.20818299999999998|-0.29840099999999997|          1.182129| 0.05451999999999996|\n",
      "| 15|          -0.996872|-1.2420579999999999|-1.0229620000000001|           -0.271109|          0.946451|           -0.175277| 0.9075350000000001| 0.45424499999999995|            1.605593| 0.26508200000000004|           0.074561|            0.271804|-0.00602699999999...|          1.021012|            0.096527|\n",
      "| 16|-0.9070440000000001|-1.2596559999999999|-0.9185540000000001|-0.24113400000000001|0.9519850000000001|           -0.188599| 0.8521290000000001|           -1.133057|  1.6638560000000002| 0.35083000000000003|           0.082347|            0.409516| 0.10969600000000002|          1.034332|            0.220917|\n",
      "| 17|          -0.819258|          -1.272398|          -0.787568|-0.21478899999999998|          0.955809|           -0.200715|           1.189391|           -2.104391|            1.854395|            0.278632|           0.037508| 0.43582200000000004| 0.06384300000000001|          0.993317| 0.23510700000000004|\n",
      "| 18|          -0.723306|          -1.279424|          -0.637915|-0.19012300000000001|           0.95785|-0.21533000000000002|           1.254681|           -2.655934|            1.730576|            0.030699|          -0.142238|            0.367262|           -0.159424|          0.815612| 0.15193199999999996|\n",
      "| 19|          -0.653998|          -1.279406|            -0.5023|           -0.174765|0.9578450000000001|           -0.227994|           1.225339|           -3.123152|            1.380593|-0.11435899999999999|          -0.347143|            0.520184|           -0.289124|0.6107020000000001| 0.29218999999999995|\n",
      "+---+-------------------+-------------------+-------------------+--------------------+------------------+--------------------+-------------------+--------------------+--------------------+--------------------+-------------------+--------------------+--------------------+------------------+--------------------+\n",
      "only showing top 20 rows\n",
      "\n"
     ]
    }
   ],
   "source": [
    "k.show()"
   ]
  },
  {
   "cell_type": "code",
   "execution_count": null,
   "id": "c412dfc4-8052-446c-ae01-2d4fa9093247",
   "metadata": {},
   "outputs": [],
   "source": []
  },
  {
   "cell_type": "code",
   "execution_count": null,
   "id": "a726b4f2-fcd7-4ece-a00f-7110bc89bba0",
   "metadata": {},
   "outputs": [],
   "source": []
  }
 ],
 "metadata": {
  "kernelspec": {
   "display_name": "Python 3 (ipykernel)",
   "language": "python",
   "name": "python3"
  },
  "language_info": {
   "codemirror_mode": {
    "name": "ipython",
    "version": 3
   },
   "file_extension": ".py",
   "mimetype": "text/x-python",
   "name": "python",
   "nbconvert_exporter": "python",
   "pygments_lexer": "ipython3",
   "version": "3.9.13"
  }
 },
 "nbformat": 4,
 "nbformat_minor": 5
}
