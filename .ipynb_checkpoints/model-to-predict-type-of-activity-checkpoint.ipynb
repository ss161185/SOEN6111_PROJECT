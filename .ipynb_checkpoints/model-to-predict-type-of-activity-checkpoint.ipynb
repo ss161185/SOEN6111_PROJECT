{
 "cells": [
  {
   "cell_type": "markdown",
   "id": "c2f8db6b",
   "metadata": {
    "papermill": {
     "duration": 0.037176,
     "end_time": "2022-03-25T14:38:39.438700",
     "exception": false,
     "start_time": "2022-03-25T14:38:39.401524",
     "status": "completed"
    },
    "tags": []
   },
   "source": [
    "# Introduction\n",
    "\n",
    "In this notebook I will try to create a model, that can reliably predict the activity done by the subjects based on the motion sensor data. For a possible transfer to another project, I will only use values from a re-created accelerometer (userAcceleration + gravity) and gyroscope (rotationRate).\n",
    "\n",
    "Disclaimer: This is beginners level machine learning and I'm documenting my thoughts along the way.\n",
    "\n",
    "For some additional info on this dataset, there is this git repo: https://github.com/mmalekzadeh/motion-sense\n",
    "\n",
    "24 subjects (male and female) were asked to do 6 different activities in 15 trials in total. The motion sensor data was collected with an iPhone 6s in a 50Hz sample rate, which means 50 samples per second. The six activities done were the following, along with their abbreviation used in this dataset:\n",
    "\n",
    "- dws: downstairs\n",
    "- ups: upstairs\n",
    "- sit: sitting\n",
    "- std: standing\n",
    "- wlk: walking\n",
    "- jog: jogging\n",
    "\n",
    "Of the 15 trials, the first 9 were \"long\" trials, while the trials 11-16 were the \"short\" version of their respective activity. Trial-ID 10 was left out. The trials in order were the following:\n",
    "\n",
    "- 1: dws\n",
    "- 2: dws\n",
    "- 3: ups\n",
    "- 4: ups\n",
    "- 5: sit\n",
    "- 6: std\n",
    "- 7: wlk\n",
    "- 8: wlk\n",
    "- 9: jog\n",
    "- 11: dws\n",
    "- 12: ups\n",
    "- 13: sit\n",
    "- 14: std\n",
    "- 15: wlk\n",
    "- 16: jog\n",
    "\n",
    "\n",
    "# Setup"
   ]
  },
  {
   "cell_type": "code",
   "execution_count": 3,
   "id": "3c5a6591",
   "metadata": {
    "_cell_guid": "b1076dfc-b9ad-4769-8c92-a6c4dae69d19",
    "_uuid": "8f2839f25d086af736a60e9eeb907d3b93b6e0e5",
    "execution": {
     "iopub.execute_input": "2022-03-25T14:38:39.565557Z",
     "iopub.status.busy": "2022-03-25T14:38:39.563970Z",
     "iopub.status.idle": "2022-03-25T14:38:40.489318Z",
     "shell.execute_reply": "2022-03-25T14:38:40.488641Z",
     "shell.execute_reply.started": "2022-03-25T12:56:58.156829Z"
    },
    "papermill": {
     "duration": 0.988216,
     "end_time": "2022-03-25T14:38:40.489467",
     "exception": false,
     "start_time": "2022-03-25T14:38:39.501251",
     "status": "completed"
    },
    "tags": []
   },
   "outputs": [],
   "source": [
    "# Importing libraries and setting the path.\n",
    "\n",
    "import numpy as np\n",
    "import pandas as pd\n",
    "import os\n",
    "import matplotlib.pyplot as plt\n",
    "\n",
    "from sklearn.model_selection import train_test_split\n",
    "from sklearn.metrics import mean_absolute_error\n",
    "\n",
    "import warnings\n",
    "warnings.filterwarnings('ignore')\n",
    "\n",
    "# path = '/Users/shubhangkhattar/Desktop/SOEN6111_PROJECT/archive/A_DeviceMotion_data/A_DeviceMotion_data/'\n",
    "path = '/kaggle/input/motionsense-dataset/A_DeviceMotion_data/A_DeviceMotion_data/'\n",
    "\n",
    "# path = '/kaggle/input/motionsense-dataset/A_DeviceMotion_data/A_DeviceMotion_data/'"
   ]
  },
  {
   "cell_type": "code",
   "execution_count": 4,
   "id": "9352cd77",
   "metadata": {
    "execution": {
     "iopub.execute_input": "2022-03-25T14:38:40.614155Z",
     "iopub.status.busy": "2022-03-25T14:38:40.613475Z",
     "iopub.status.idle": "2022-03-25T14:38:51.129925Z",
     "shell.execute_reply": "2022-03-25T14:38:51.129307Z",
     "shell.execute_reply.started": "2022-03-25T12:57:11.885670Z"
    },
    "papermill": {
     "duration": 10.584486,
     "end_time": "2022-03-25T14:38:51.130054",
     "exception": false,
     "start_time": "2022-03-25T14:38:40.545568",
     "status": "completed"
    },
    "tags": []
   },
   "outputs": [
    {
     "ename": "FileNotFoundError",
     "evalue": "[Errno 2] No such file or directory: '/kaggle/input/motionsense-dataset/A_DeviceMotion_data/A_DeviceMotion_data/'",
     "output_type": "error",
     "traceback": [
      "\u001b[0;31m---------------------------------------------------------------------------\u001b[0m",
      "\u001b[0;31mFileNotFoundError\u001b[0m                         Traceback (most recent call last)",
      "Cell \u001b[0;32mIn[4], line 3\u001b[0m\n\u001b[1;32m      1\u001b[0m \u001b[38;5;66;03m# Setting up lists for importing the data.\u001b[39;00m\n\u001b[0;32m----> 3\u001b[0m list_of_folders \u001b[38;5;241m=\u001b[39m \u001b[43mos\u001b[49m\u001b[38;5;241;43m.\u001b[39;49m\u001b[43mlistdir\u001b[49m\u001b[43m(\u001b[49m\u001b[43mpath\u001b[49m\u001b[43m)\u001b[49m\n\u001b[1;32m      4\u001b[0m list_of_directories \u001b[38;5;241m=\u001b[39m [path \u001b[38;5;241m+\u001b[39m i \u001b[38;5;28;01mfor\u001b[39;00m i \u001b[38;5;129;01min\u001b[39;00m list_of_folders]\n\u001b[1;32m      5\u001b[0m list_of_dfs \u001b[38;5;241m=\u001b[39m []\n",
      "\u001b[0;31mFileNotFoundError\u001b[0m: [Errno 2] No such file or directory: '/kaggle/input/motionsense-dataset/A_DeviceMotion_data/A_DeviceMotion_data/'"
     ]
    }
   ],
   "source": [
    "# Setting up lists for importing the data.\n",
    "\n",
    "list_of_folders = os.listdir(path)\n",
    "list_of_directories = [path + i for i in list_of_folders]\n",
    "list_of_dfs = []\n",
    "\n",
    "activities = ['dws', 'ups', 'sit', 'std', 'wlk', 'jog']\n",
    "\n",
    "# Iterating through the directories and appending the dataframes for each subject in each of the trials to a list for further use.\n",
    "\n",
    "for i in list_of_directories:\n",
    "    list_of_csv = os.listdir(i)\n",
    "    for j in list_of_csv:\n",
    "        k = pd.read_csv(i + '/' + j).rename(columns={'Unnamed: 0': 'time'})\n",
    "        k['subject'] = int(j.split('_')[1].split('.')[0])\n",
    "        k['activity'] = i.split('/')[6].split('_')[0]\n",
    "        k['trial'] = int(i.split('/')[6].split('_')[1])\n",
    "        k.insert(0, 'accel_x', k['userAcceleration.x'] + k['gravity.x'])\n",
    "        k.insert(1, 'accel_y', k['userAcceleration.y'] + k['gravity.y'])\n",
    "        k.insert(2, 'accel_z', k['userAcceleration.z'] + k['gravity.z'])\n",
    "        k.insert(3, 'accel_norm', np.sqrt(k['accel_x']**2 + k['accel_y']**2 + k['accel_z']**2))\n",
    "        list_of_dfs.append(k)\n",
    "\n",
    "# Creating one big dataframe (df) from the list of all individual dataframes. Dropping unnecessary columns and renaming the ones for rotation.\n",
    "\n",
    "df = pd.concat(list_of_dfs).set_index('time')\n",
    "df = df.drop(['attitude.roll', 'attitude.pitch', 'attitude.yaw', 'gravity.x', 'gravity.y', 'gravity.z', 'userAcceleration.x', 'userAcceleration.y', 'userAcceleration.z'], axis=1)\n",
    "df = df.rename(columns={'rotationRate.x': 'gyro_x', 'rotationRate.y': 'gyro_y', 'rotationRate.z': 'gyro_z'})"
   ]
  },
  {
   "cell_type": "code",
   "execution_count": 3,
   "id": "1a14c9bb",
   "metadata": {
    "execution": {
     "iopub.execute_input": "2022-03-25T14:38:51.250156Z",
     "iopub.status.busy": "2022-03-25T14:38:51.249579Z",
     "iopub.status.idle": "2022-03-25T14:38:51.269613Z",
     "shell.execute_reply": "2022-03-25T14:38:51.270022Z",
     "shell.execute_reply.started": "2022-03-22T13:36:24.042605Z"
    },
    "papermill": {
     "duration": 0.084391,
     "end_time": "2022-03-25T14:38:51.270159",
     "exception": false,
     "start_time": "2022-03-25T14:38:51.185768",
     "status": "completed"
    },
    "tags": []
   },
   "outputs": [
    {
     "data": {
      "text/html": [
       "<div>\n",
       "<style scoped>\n",
       "    .dataframe tbody tr th:only-of-type {\n",
       "        vertical-align: middle;\n",
       "    }\n",
       "\n",
       "    .dataframe tbody tr th {\n",
       "        vertical-align: top;\n",
       "    }\n",
       "\n",
       "    .dataframe thead th {\n",
       "        text-align: right;\n",
       "    }\n",
       "</style>\n",
       "<table border=\"1\" class=\"dataframe\">\n",
       "  <thead>\n",
       "    <tr style=\"text-align: right;\">\n",
       "      <th></th>\n",
       "      <th>accel_x</th>\n",
       "      <th>accel_y</th>\n",
       "      <th>accel_z</th>\n",
       "      <th>accel_norm</th>\n",
       "      <th>gyro_x</th>\n",
       "      <th>gyro_y</th>\n",
       "      <th>gyro_z</th>\n",
       "      <th>subject</th>\n",
       "      <th>activity</th>\n",
       "      <th>trial</th>\n",
       "    </tr>\n",
       "    <tr>\n",
       "      <th>time</th>\n",
       "      <th></th>\n",
       "      <th></th>\n",
       "      <th></th>\n",
       "      <th></th>\n",
       "      <th></th>\n",
       "      <th></th>\n",
       "      <th></th>\n",
       "      <th></th>\n",
       "      <th></th>\n",
       "      <th></th>\n",
       "    </tr>\n",
       "  </thead>\n",
       "  <tbody>\n",
       "    <tr>\n",
       "      <th>0</th>\n",
       "      <td>0.454819</td>\n",
       "      <td>1.052780</td>\n",
       "      <td>-0.108917</td>\n",
       "      <td>1.151985</td>\n",
       "      <td>-0.055552</td>\n",
       "      <td>0.296486</td>\n",
       "      <td>-0.517680</td>\n",
       "      <td>16</td>\n",
       "      <td>dws</td>\n",
       "      <td>1</td>\n",
       "    </tr>\n",
       "    <tr>\n",
       "      <th>1</th>\n",
       "      <td>0.376831</td>\n",
       "      <td>0.929001</td>\n",
       "      <td>-0.066894</td>\n",
       "      <td>1.004748</td>\n",
       "      <td>-0.160723</td>\n",
       "      <td>0.148822</td>\n",
       "      <td>-0.528907</td>\n",
       "      <td>16</td>\n",
       "      <td>dws</td>\n",
       "      <td>1</td>\n",
       "    </tr>\n",
       "    <tr>\n",
       "      <th>2</th>\n",
       "      <td>0.321427</td>\n",
       "      <td>0.825241</td>\n",
       "      <td>0.012176</td>\n",
       "      <td>0.885712</td>\n",
       "      <td>-0.125106</td>\n",
       "      <td>0.032462</td>\n",
       "      <td>-0.498599</td>\n",
       "      <td>16</td>\n",
       "      <td>dws</td>\n",
       "      <td>1</td>\n",
       "    </tr>\n",
       "    <tr>\n",
       "      <th>3</th>\n",
       "      <td>0.286941</td>\n",
       "      <td>0.789627</td>\n",
       "      <td>0.009613</td>\n",
       "      <td>0.840201</td>\n",
       "      <td>0.135182</td>\n",
       "      <td>-0.113719</td>\n",
       "      <td>-0.398317</td>\n",
       "      <td>16</td>\n",
       "      <td>dws</td>\n",
       "      <td>1</td>\n",
       "    </tr>\n",
       "    <tr>\n",
       "      <th>4</th>\n",
       "      <td>0.284058</td>\n",
       "      <td>0.843247</td>\n",
       "      <td>-0.051727</td>\n",
       "      <td>0.891308</td>\n",
       "      <td>0.475710</td>\n",
       "      <td>-0.107196</td>\n",
       "      <td>-0.194053</td>\n",
       "      <td>16</td>\n",
       "      <td>dws</td>\n",
       "      <td>1</td>\n",
       "    </tr>\n",
       "    <tr>\n",
       "      <th>...</th>\n",
       "      <td>...</td>\n",
       "      <td>...</td>\n",
       "      <td>...</td>\n",
       "      <td>...</td>\n",
       "      <td>...</td>\n",
       "      <td>...</td>\n",
       "      <td>...</td>\n",
       "      <td>...</td>\n",
       "      <td>...</td>\n",
       "      <td>...</td>\n",
       "    </tr>\n",
       "    <tr>\n",
       "      <th>6859</th>\n",
       "      <td>0.101487</td>\n",
       "      <td>1.568817</td>\n",
       "      <td>-0.151886</td>\n",
       "      <td>1.579416</td>\n",
       "      <td>0.047839</td>\n",
       "      <td>-0.205053</td>\n",
       "      <td>-0.354167</td>\n",
       "      <td>7</td>\n",
       "      <td>wlk</td>\n",
       "      <td>7</td>\n",
       "    </tr>\n",
       "    <tr>\n",
       "      <th>6860</th>\n",
       "      <td>-0.389420</td>\n",
       "      <td>1.524643</td>\n",
       "      <td>0.047653</td>\n",
       "      <td>1.574311</td>\n",
       "      <td>-0.498880</td>\n",
       "      <td>0.069946</td>\n",
       "      <td>-0.452342</td>\n",
       "      <td>7</td>\n",
       "      <td>wlk</td>\n",
       "      <td>7</td>\n",
       "    </tr>\n",
       "    <tr>\n",
       "      <th>6861</th>\n",
       "      <td>-0.261795</td>\n",
       "      <td>1.058045</td>\n",
       "      <td>0.002655</td>\n",
       "      <td>1.089955</td>\n",
       "      <td>-0.519771</td>\n",
       "      <td>0.242518</td>\n",
       "      <td>0.098493</td>\n",
       "      <td>7</td>\n",
       "      <td>wlk</td>\n",
       "      <td>7</td>\n",
       "    </tr>\n",
       "    <tr>\n",
       "      <th>6862</th>\n",
       "      <td>-0.217759</td>\n",
       "      <td>0.728638</td>\n",
       "      <td>0.039276</td>\n",
       "      <td>0.761495</td>\n",
       "      <td>-0.363679</td>\n",
       "      <td>-0.225310</td>\n",
       "      <td>0.272167</td>\n",
       "      <td>7</td>\n",
       "      <td>wlk</td>\n",
       "      <td>7</td>\n",
       "    </tr>\n",
       "    <tr>\n",
       "      <th>6863</th>\n",
       "      <td>-0.131256</td>\n",
       "      <td>0.836212</td>\n",
       "      <td>0.230423</td>\n",
       "      <td>0.877253</td>\n",
       "      <td>-0.222550</td>\n",
       "      <td>-0.083684</td>\n",
       "      <td>-0.367962</td>\n",
       "      <td>7</td>\n",
       "      <td>wlk</td>\n",
       "      <td>7</td>\n",
       "    </tr>\n",
       "  </tbody>\n",
       "</table>\n",
       "<p>1412865 rows × 10 columns</p>\n",
       "</div>"
      ],
      "text/plain": [
       "       accel_x   accel_y   accel_z  accel_norm    gyro_x    gyro_y    gyro_z  \\\n",
       "time                                                                           \n",
       "0     0.454819  1.052780 -0.108917    1.151985 -0.055552  0.296486 -0.517680   \n",
       "1     0.376831  0.929001 -0.066894    1.004748 -0.160723  0.148822 -0.528907   \n",
       "2     0.321427  0.825241  0.012176    0.885712 -0.125106  0.032462 -0.498599   \n",
       "3     0.286941  0.789627  0.009613    0.840201  0.135182 -0.113719 -0.398317   \n",
       "4     0.284058  0.843247 -0.051727    0.891308  0.475710 -0.107196 -0.194053   \n",
       "...        ...       ...       ...         ...       ...       ...       ...   \n",
       "6859  0.101487  1.568817 -0.151886    1.579416  0.047839 -0.205053 -0.354167   \n",
       "6860 -0.389420  1.524643  0.047653    1.574311 -0.498880  0.069946 -0.452342   \n",
       "6861 -0.261795  1.058045  0.002655    1.089955 -0.519771  0.242518  0.098493   \n",
       "6862 -0.217759  0.728638  0.039276    0.761495 -0.363679 -0.225310  0.272167   \n",
       "6863 -0.131256  0.836212  0.230423    0.877253 -0.222550 -0.083684 -0.367962   \n",
       "\n",
       "      subject activity  trial  \n",
       "time                           \n",
       "0          16      dws      1  \n",
       "1          16      dws      1  \n",
       "2          16      dws      1  \n",
       "3          16      dws      1  \n",
       "4          16      dws      1  \n",
       "...       ...      ...    ...  \n",
       "6859        7      wlk      7  \n",
       "6860        7      wlk      7  \n",
       "6861        7      wlk      7  \n",
       "6862        7      wlk      7  \n",
       "6863        7      wlk      7  \n",
       "\n",
       "[1412865 rows x 10 columns]"
      ]
     },
     "execution_count": 3,
     "metadata": {},
     "output_type": "execute_result"
    }
   ],
   "source": [
    "df"
   ]
  },
  {
   "cell_type": "code",
   "execution_count": 4,
   "id": "7223ffc8",
   "metadata": {
    "execution": {
     "iopub.execute_input": "2022-03-25T14:38:51.353911Z",
     "iopub.status.busy": "2022-03-25T14:38:51.353402Z",
     "iopub.status.idle": "2022-03-25T14:38:51.447251Z",
     "shell.execute_reply": "2022-03-25T14:38:51.446793Z",
     "shell.execute_reply.started": "2022-03-25T12:57:31.260921Z"
    },
    "papermill": {
     "duration": 0.1381,
     "end_time": "2022-03-25T14:38:51.447365",
     "exception": false,
     "start_time": "2022-03-25T14:38:51.309265",
     "status": "completed"
    },
    "tags": []
   },
   "outputs": [],
   "source": [
    "# Separating the dataframe into a training set and a test set. Making the cut between the long (1-9) and the short trials (11-16), with the short trials including one of each activity.\n",
    "\n",
    "train_df = df[(df.trial < 10)]\n",
    "test_df = df[(df.trial > 10)]\n",
    "\n",
    "# Creating the features X and the targets y out of the training dataframe. Features are the seven columns for accelerometer (x,y,z,norm) and gyroscope (x,y,z).\n",
    "\n",
    "X = train_df.iloc[:,:-3]\n",
    "y = train_df.activity"
   ]
  },
  {
   "cell_type": "markdown",
   "id": "c7a07beb",
   "metadata": {
    "papermill": {
     "duration": 0.039061,
     "end_time": "2022-03-25T14:38:51.525303",
     "exception": false,
     "start_time": "2022-03-25T14:38:51.486242",
     "status": "completed"
    },
    "tags": []
   },
   "source": [
    "# First models\n",
    "\n",
    "Just to get a first impression, I will try some models only on the seven given features, the six accelerometer and gyroscope values and the euclidean norm for the accelerometer."
   ]
  },
  {
   "cell_type": "code",
   "execution_count": 5,
   "id": "9c083cb9",
   "metadata": {
    "execution": {
     "iopub.execute_input": "2022-03-25T14:38:51.608273Z",
     "iopub.status.busy": "2022-03-25T14:38:51.607573Z",
     "iopub.status.idle": "2022-03-25T14:39:24.598554Z",
     "shell.execute_reply": "2022-03-25T14:39:24.598967Z",
     "shell.execute_reply.started": "2022-03-17T15:23:10.910881Z"
    },
    "papermill": {
     "duration": 33.034668,
     "end_time": "2022-03-25T14:39:24.599099",
     "exception": false,
     "start_time": "2022-03-25T14:38:51.564431",
     "status": "completed"
    },
    "tags": []
   },
   "outputs": [
    {
     "data": {
      "text/plain": [
       "DecisionTreeClassifier()"
      ]
     },
     "execution_count": 5,
     "metadata": {},
     "output_type": "execute_result"
    }
   ],
   "source": [
    "# DecisionTreeClassifier\n",
    "\n",
    "from sklearn.tree import DecisionTreeClassifier\n",
    "\n",
    "dtc = DecisionTreeClassifier()\n",
    "dtc.fit(X, y)"
   ]
  },
  {
   "cell_type": "markdown",
   "id": "6ee3df9b",
   "metadata": {
    "papermill": {
     "duration": 0.03944,
     "end_time": "2022-03-25T14:39:24.678277",
     "exception": false,
     "start_time": "2022-03-25T14:39:24.638837",
     "status": "completed"
    },
    "tags": []
   },
   "source": [
    "To evaluate the model, I'm implementing a little function that also lists how the model does on each activity, instead of just the whole test set."
   ]
  },
  {
   "cell_type": "code",
   "execution_count": 6,
   "id": "7befb6bd",
   "metadata": {
    "execution": {
     "iopub.execute_input": "2022-03-25T14:39:24.772626Z",
     "iopub.status.busy": "2022-03-25T14:39:24.772093Z",
     "iopub.status.idle": "2022-03-25T14:39:24.773424Z",
     "shell.execute_reply": "2022-03-25T14:39:24.774049Z",
     "shell.execute_reply.started": "2022-03-18T10:38:03.534687Z"
    },
    "papermill": {
     "duration": 0.056476,
     "end_time": "2022-03-25T14:39:24.774231",
     "exception": false,
     "start_time": "2022-03-25T14:39:24.717755",
     "status": "completed"
    },
    "tags": []
   },
   "outputs": [],
   "source": [
    "# Checking the model on the test set by activity.\n",
    "\n",
    "def test_results(model, df):\n",
    "    \"\"\"\n",
    "    \n",
    "    Parameters\n",
    "    ----------\n",
    "    model : \n",
    "        DecisionTreeClassifier or RandomForestClassifier\n",
    "    \n",
    "    df : pd.DataFrame\n",
    "        a dataframe on which the model makes predictions, including the activity column as target\n",
    "        \n",
    "    Returns\n",
    "    -------\n",
    "        prints out a list of the accuracy of the model on the dataframe for each activity\n",
    "\n",
    "    \"\"\"\n",
    "    correct = 0\n",
    "    total = 0\n",
    "    for i in activities:\n",
    "        k = df.iloc[:,:-3][(df.activity == i)]\n",
    "        preds = model.predict(k)\n",
    "        print(i + ': ' + str(((preds == i).sum() / len(preds))*100) + '%')\n",
    "        correct += (preds == i).sum()\n",
    "        total += len(preds)\n",
    "    print('total: ' + str(correct / total * 100) + '%')\n"
   ]
  },
  {
   "cell_type": "code",
   "execution_count": 7,
   "id": "96efaa20",
   "metadata": {
    "execution": {
     "iopub.execute_input": "2022-03-25T14:39:24.872730Z",
     "iopub.status.busy": "2022-03-25T14:39:24.871762Z",
     "iopub.status.idle": "2022-03-25T14:39:25.120111Z",
     "shell.execute_reply": "2022-03-25T14:39:25.120473Z",
     "shell.execute_reply.started": "2022-03-17T15:23:46.332577Z"
    },
    "papermill": {
     "duration": 0.296275,
     "end_time": "2022-03-25T14:39:25.120608",
     "exception": false,
     "start_time": "2022-03-25T14:39:24.824333",
     "status": "completed"
    },
    "tags": []
   },
   "outputs": [
    {
     "name": "stdout",
     "output_type": "stream",
     "text": [
      "dws: 39.57870411518976%\n",
      "ups: 43.025456103395335%\n",
      "sit: 99.09240210908462%\n",
      "std: 92.09175233730747%\n",
      "wlk: 58.44006618458144%\n",
      "jog: 58.35005350454788%\n",
      "total: 76.90687618995894%\n"
     ]
    }
   ],
   "source": [
    "test_results(dtc, test_df)"
   ]
  },
  {
   "cell_type": "markdown",
   "id": "e10aecef",
   "metadata": {
    "papermill": {
     "duration": 0.040181,
     "end_time": "2022-03-25T14:39:25.202415",
     "exception": false,
     "start_time": "2022-03-25T14:39:25.162234",
     "status": "completed"
    },
    "tags": []
   },
   "source": [
    "About 77% doesn't sound too bad in total for the first try, but the accuracy on activities that are not sitting or standing are pretty disappointing. Especially considering sitting and standing should be the easiest ones to predict regarding their lack of motion, this is not a good model at all.\n",
    "\n",
    "Another problem lies within the distribution of rows for each activity during the short trials (11-16), aka our test set:"
   ]
  },
  {
   "cell_type": "code",
   "execution_count": 8,
   "id": "69a8e5d3",
   "metadata": {
    "execution": {
     "iopub.execute_input": "2022-03-25T14:39:25.286980Z",
     "iopub.status.busy": "2022-03-25T14:39:25.286308Z",
     "iopub.status.idle": "2022-03-25T14:39:25.312606Z",
     "shell.execute_reply": "2022-03-25T14:39:25.313166Z",
     "shell.execute_reply.started": "2022-03-17T09:55:08.286414Z"
    },
    "papermill": {
     "duration": 0.070092,
     "end_time": "2022-03-25T14:39:25.313305",
     "exception": false,
     "start_time": "2022-03-25T14:39:25.243213",
     "status": "completed"
    },
    "tags": []
   },
   "outputs": [
    {
     "data": {
      "text/plain": [
       "sit    104121\n",
       "std     81611\n",
       "wlk     65272\n",
       "jog     29904\n",
       "ups     28009\n",
       "dws     22502\n",
       "Name: activity, dtype: int64"
      ]
     },
     "execution_count": 8,
     "metadata": {},
     "output_type": "execute_result"
    }
   ],
   "source": [
    "test_df.activity.value_counts()"
   ]
  },
  {
   "cell_type": "markdown",
   "id": "8c75f70c",
   "metadata": {
    "papermill": {
     "duration": 0.042553,
     "end_time": "2022-03-25T14:39:25.397280",
     "exception": false,
     "start_time": "2022-03-25T14:39:25.354727",
     "status": "completed"
    },
    "tags": []
   },
   "source": [
    "Sitting and standing were done significantly longer than the other trials (it's the same during trials 1-9), so this has to be considered when evaluating models on the test set, as the easy to predict categories boost the overall accuracy. Another approach would be to shorten the amount of rows for sitting and standing (and walking) in the whole dataset, but instead I will just continue to evaluate models on each category individually and will not give too much weight on the overall accuracy.\n",
    "\n",
    "Let's try another model."
   ]
  },
  {
   "cell_type": "code",
   "execution_count": 9,
   "id": "52454c14",
   "metadata": {
    "execution": {
     "iopub.execute_input": "2022-03-25T14:39:25.481316Z",
     "iopub.status.busy": "2022-03-25T14:39:25.480613Z",
     "iopub.status.idle": "2022-03-25T14:40:26.378371Z",
     "shell.execute_reply": "2022-03-25T14:40:26.378766Z",
     "shell.execute_reply.started": "2022-03-18T10:37:55.427938Z"
    },
    "papermill": {
     "duration": 60.941256,
     "end_time": "2022-03-25T14:40:26.378911",
     "exception": false,
     "start_time": "2022-03-25T14:39:25.437655",
     "status": "completed"
    },
    "tags": []
   },
   "outputs": [
    {
     "data": {
      "text/plain": [
       "RandomForestClassifier(n_estimators=10)"
      ]
     },
     "execution_count": 9,
     "metadata": {},
     "output_type": "execute_result"
    }
   ],
   "source": [
    "# RandomForestClassifier\n",
    "\n",
    "from sklearn.ensemble import RandomForestClassifier\n",
    "\n",
    "rfc = RandomForestClassifier(n_estimators=10)\n",
    "rfc.fit(X, y)"
   ]
  },
  {
   "cell_type": "code",
   "execution_count": 10,
   "id": "adcbf339",
   "metadata": {
    "execution": {
     "iopub.execute_input": "2022-03-25T14:40:26.464763Z",
     "iopub.status.busy": "2022-03-25T14:40:26.464093Z",
     "iopub.status.idle": "2022-03-25T14:40:27.537680Z",
     "shell.execute_reply": "2022-03-25T14:40:27.538914Z",
     "shell.execute_reply.started": "2022-03-17T11:19:21.334427Z"
    },
    "papermill": {
     "duration": 1.118784,
     "end_time": "2022-03-25T14:40:27.539136",
     "exception": false,
     "start_time": "2022-03-25T14:40:26.420352",
     "status": "completed"
    },
    "tags": []
   },
   "outputs": [
    {
     "name": "stdout",
     "output_type": "stream",
     "text": [
      "dws: 46.653630788374365%\n",
      "ups: 46.87064872005427%\n",
      "sit: 95.38229559839033%\n",
      "std: 93.60012743380182%\n",
      "wlk: 67.47150386076724%\n",
      "jog: 67.5260834670947%\n",
      "total: 79.52471041189551%\n"
     ]
    }
   ],
   "source": [
    "test_results(rfc, test_df)"
   ]
  },
  {
   "cell_type": "markdown",
   "id": "ebcbcf2b",
   "metadata": {
    "papermill": {
     "duration": 0.063192,
     "end_time": "2022-03-25T14:40:27.667261",
     "exception": false,
     "start_time": "2022-03-25T14:40:27.604069",
     "status": "completed"
    },
    "tags": []
   },
   "source": [
    "The RandomForestClassifier is a popular model and it outperformed the DecisionTreeClassifier in most activities. The overall score is only a little higher, but the DecisionTree score is boosted by the high sitting accuracy and performed worse in all the other categories. For the RandomForestClassifier, the parameter n_estimators (number of trees) would be at 100 by default, but due to runtime issues I needed to scale it down to 10. Increasing it would slightly improve the results, but not significantly."
   ]
  },
  {
   "cell_type": "code",
   "execution_count": 11,
   "id": "0c031d1f",
   "metadata": {
    "execution": {
     "iopub.execute_input": "2022-03-25T14:40:27.798257Z",
     "iopub.status.busy": "2022-03-25T14:40:27.797400Z",
     "iopub.status.idle": "2022-03-25T14:40:33.230150Z",
     "shell.execute_reply": "2022-03-25T14:40:33.229664Z",
     "shell.execute_reply.started": "2022-03-25T12:57:39.268512Z"
    },
    "papermill": {
     "duration": 5.499586,
     "end_time": "2022-03-25T14:40:33.230260",
     "exception": false,
     "start_time": "2022-03-25T14:40:27.730674",
     "status": "completed"
    },
    "tags": []
   },
   "outputs": [],
   "source": [
    "# Creating a neural network with the keras library.\n",
    "\n",
    "from keras.models import Sequential\n",
    "from keras.layers import Dense\n",
    "from keras.utils import np_utils\n",
    "from tensorflow import keras\n",
    "from sklearn.preprocessing import LabelEncoder\n",
    "\n",
    "# Using LabelEncoder to convert the targets (6 activities) by one-hot-encoding to a binary matrix (dummy_y).\n",
    "\n",
    "encoder = LabelEncoder()\n",
    "encoder.fit(y)\n",
    "encoded_y = encoder.transform(y)\n",
    "\n",
    "dummy_y = np_utils.to_categorical(encoded_y)\n"
   ]
  },
  {
   "cell_type": "code",
   "execution_count": 12,
   "id": "50e82654",
   "metadata": {
    "execution": {
     "iopub.execute_input": "2022-03-25T14:40:33.319395Z",
     "iopub.status.busy": "2022-03-25T14:40:33.318911Z",
     "iopub.status.idle": "2022-03-25T14:40:34.023579Z",
     "shell.execute_reply": "2022-03-25T14:40:34.024149Z",
     "shell.execute_reply.started": "2022-03-18T11:03:01.815505Z"
    },
    "papermill": {
     "duration": 0.750218,
     "end_time": "2022-03-25T14:40:34.024325",
     "exception": false,
     "start_time": "2022-03-25T14:40:33.274107",
     "status": "completed"
    },
    "tags": []
   },
   "outputs": [
    {
     "name": "stderr",
     "output_type": "stream",
     "text": [
      "2022-03-25 14:40:33.347292: I tensorflow/core/common_runtime/process_util.cc:146] Creating new thread pool with default inter op setting: 2. Tune using inter_op_parallelism_threads for best performance.\n"
     ]
    }
   ],
   "source": [
    "# Creating the model.\n",
    "\n",
    "cnn = Sequential()\n",
    "cnn.add(Dense(80, input_dim=7, activation='relu'))\n",
    "cnn.add(Dense(40, activation='relu'))\n",
    "cnn.add(Dense(20, activation='relu'))\n",
    "cnn.add(Dense(6, activation='softmax'))\n",
    "\n",
    "opt = keras.optimizers.Adam(learning_rate=0.01)\n",
    "\n",
    "cnn.compile(loss='categorical_crossentropy', optimizer=opt, metrics=['accuracy'])\n",
    "\n",
    "train_X, val_X, train_y, val_y = train_test_split(X, dummy_y, shuffle=True)"
   ]
  },
  {
   "cell_type": "code",
   "execution_count": 13,
   "id": "a216ae2e",
   "metadata": {
    "execution": {
     "iopub.execute_input": "2022-03-25T14:40:34.163005Z",
     "iopub.status.busy": "2022-03-25T14:40:34.162318Z",
     "iopub.status.idle": "2022-03-25T14:42:53.987710Z",
     "shell.execute_reply": "2022-03-25T14:42:53.987160Z",
     "shell.execute_reply.started": "2022-03-18T11:03:05.528522Z"
    },
    "papermill": {
     "duration": 139.897249,
     "end_time": "2022-03-25T14:42:53.987840",
     "exception": false,
     "start_time": "2022-03-25T14:40:34.090591",
     "status": "completed"
    },
    "tags": []
   },
   "outputs": [
    {
     "name": "stderr",
     "output_type": "stream",
     "text": [
      "2022-03-25 14:40:34.269221: I tensorflow/compiler/mlir/mlir_graph_optimization_pass.cc:185] None of the MLIR Optimization Passes are enabled (registered 2)\n"
     ]
    },
    {
     "name": "stdout",
     "output_type": "stream",
     "text": [
      "Epoch 1/10\n",
      "4056/4056 [==============================] - 15s 3ms/step - loss: 0.6145 - accuracy: 0.7495 - val_loss: 0.5770 - val_accuracy: 0.7646\n",
      "Epoch 2/10\n",
      "4056/4056 [==============================] - 13s 3ms/step - loss: 0.5713 - accuracy: 0.7709 - val_loss: 0.5789 - val_accuracy: 0.7698\n",
      "Epoch 3/10\n",
      "4056/4056 [==============================] - 15s 4ms/step - loss: 0.5614 - accuracy: 0.7762 - val_loss: 0.5542 - val_accuracy: 0.7812\n",
      "Epoch 4/10\n",
      "4056/4056 [==============================] - 14s 3ms/step - loss: 0.5546 - accuracy: 0.7797 - val_loss: 0.5673 - val_accuracy: 0.7738\n",
      "Epoch 5/10\n",
      "4056/4056 [==============================] - 14s 3ms/step - loss: 0.5503 - accuracy: 0.7822 - val_loss: 0.5439 - val_accuracy: 0.7866\n",
      "Epoch 6/10\n",
      "4056/4056 [==============================] - 14s 3ms/step - loss: 0.5469 - accuracy: 0.7844 - val_loss: 0.5480 - val_accuracy: 0.7863\n",
      "Epoch 7/10\n",
      "4056/4056 [==============================] - 14s 3ms/step - loss: 0.5448 - accuracy: 0.7857 - val_loss: 0.5510 - val_accuracy: 0.7839\n",
      "Epoch 8/10\n",
      "4056/4056 [==============================] - 14s 3ms/step - loss: 0.5425 - accuracy: 0.7870 - val_loss: 0.5372 - val_accuracy: 0.7889\n",
      "Epoch 9/10\n",
      "4056/4056 [==============================] - 14s 3ms/step - loss: 0.5409 - accuracy: 0.7879 - val_loss: 0.5377 - val_accuracy: 0.7887\n",
      "Epoch 10/10\n",
      "4056/4056 [==============================] - 14s 3ms/step - loss: 0.5398 - accuracy: 0.7883 - val_loss: 0.5467 - val_accuracy: 0.7834\n"
     ]
    },
    {
     "data": {
      "image/png": "[encoded data removed]",
      "text/plain": [
       "<Figure size 432x288 with 1 Axes>"
      ]
     },
     "metadata": {
      "needs_background": "light"
     },
     "output_type": "display_data"
    }
   ],
   "source": [
    "history = cnn.fit(train_X, train_y, epochs=10, batch_size=200, validation_data=(val_X, val_y))\n",
    "history_df = pd.DataFrame(history.history)\n",
    "history_df.loc[:, ['loss', 'val_loss']].plot()\n",
    "plt.show()"
   ]
  },
  {
   "cell_type": "markdown",
   "id": "0eacca79",
   "metadata": {
    "papermill": {
     "duration": 0.719161,
     "end_time": "2022-03-25T14:42:55.414606",
     "exception": false,
     "start_time": "2022-03-25T14:42:54.695445",
     "status": "completed"
    },
    "tags": []
   },
   "source": [
    "To evaluate the cnn model on the test set with a list of accuracy for each activity, I need another function to do the one-hot-encoding on the targets and the decoding afterwards (with np.argmax on the predictions)."
   ]
  },
  {
   "cell_type": "code",
   "execution_count": 14,
   "id": "2c4eef9f",
   "metadata": {
    "execution": {
     "iopub.execute_input": "2022-03-25T14:42:56.889959Z",
     "iopub.status.busy": "2022-03-25T14:42:56.889397Z",
     "iopub.status.idle": "2022-03-25T14:42:56.895166Z",
     "shell.execute_reply": "2022-03-25T14:42:56.895580Z",
     "shell.execute_reply.started": "2022-03-25T12:58:10.612869Z"
    },
    "papermill": {
     "duration": 0.75083,
     "end_time": "2022-03-25T14:42:56.895727",
     "exception": false,
     "start_time": "2022-03-25T14:42:56.144897",
     "status": "completed"
    },
    "tags": []
   },
   "outputs": [],
   "source": [
    "def cnn_test_results(model, df):\n",
    "    \"\"\"\n",
    "    \n",
    "    Parameters\n",
    "    ----------\n",
    "    model : tf.keras.Sequential()\n",
    "        a model in form of a convolutional neural network, Sequential used here\n",
    "    \n",
    "    df : pd.DataFrame\n",
    "        a dataframe on which the model makes predictions, including the activity column as target\n",
    "\n",
    "    Returns\n",
    "    -------\n",
    "        prints out a list of the accuracy of the model on the dataframe for each activity\n",
    "\n",
    "    \"\"\"    \n",
    "    correct = 0\n",
    "    total = 0\n",
    "    for i in activities:\n",
    "        k = df.iloc[:,:-3][(df.activity == i)]\n",
    "        preds = model.predict(k)\n",
    "        encoder = LabelEncoder()\n",
    "        encoder.fit(df.activity)\n",
    "        l = []\n",
    "        for j in range(len(preds)):\n",
    "            l.append(list(encoder.classes_)[np.argmax(preds[j])])\n",
    "        accuracy = sum([l[j] == i for j in range(len(l))])/len(l)\n",
    "        print(i + ': ' + str(accuracy*100) + '%')\n",
    "        correct += sum([l[j] == i for j in range(len(l))])\n",
    "        total += len(l)\n",
    "    print('total: ' + str(correct / total * 100) + '%')"
   ]
  },
  {
   "cell_type": "code",
   "execution_count": 15,
   "id": "35981102",
   "metadata": {
    "execution": {
     "iopub.execute_input": "2022-03-25T14:42:58.341144Z",
     "iopub.status.busy": "2022-03-25T14:42:58.340658Z",
     "iopub.status.idle": "2022-03-25T14:43:12.647990Z",
     "shell.execute_reply": "2022-03-25T14:43:12.647546Z",
     "shell.execute_reply.started": "2022-03-18T11:07:56.074386Z"
    },
    "papermill": {
     "duration": 15.040589,
     "end_time": "2022-03-25T14:43:12.648106",
     "exception": false,
     "start_time": "2022-03-25T14:42:57.607517",
     "status": "completed"
    },
    "tags": []
   },
   "outputs": [
    {
     "name": "stdout",
     "output_type": "stream",
     "text": [
      "dws: 40.99191183005955%\n",
      "ups: 48.380877575065156%\n",
      "sit: 91.03831119562817%\n",
      "std: 94.45540429598951%\n",
      "wlk: 66.60742738080647%\n",
      "jog: 58.81821829855538%\n",
      "total: 77.15791792262966%\n"
     ]
    }
   ],
   "source": [
    "cnn_test_results(cnn, test_df)"
   ]
  },
  {
   "cell_type": "markdown",
   "id": "2f73c7f9",
   "metadata": {
    "papermill": {
     "duration": 0.731123,
     "end_time": "2022-03-25T14:43:14.174661",
     "exception": false,
     "start_time": "2022-03-25T14:43:13.443538",
     "status": "completed"
    },
    "tags": []
   },
   "source": [
    "The results are comparable to the first two models, but it's also promising results with a really simple neural network, since it has much more parameters to adjust like number of layers, neurons or activation functions. I didn't spend time on tuning it at this point, as this concludes my first overview of models on the test set. In general it doesn't seem like the best idea to try to classify the activity by samples of just 1/50 second of motion data (per row).\n",
    "\n",
    "So I need to improve the given data first, before worrying about which model to choose."
   ]
  },
  {
   "cell_type": "markdown",
   "id": "09fc7647",
   "metadata": {
    "papermill": {
     "duration": 0.723961,
     "end_time": "2022-03-25T14:43:15.644046",
     "exception": false,
     "start_time": "2022-03-25T14:43:14.920085",
     "status": "completed"
    },
    "tags": []
   },
   "source": [
    "# Lag features\n",
    "\n",
    "The idea is to have info from consecutive points in time in one row. To achieve this, I use lag features to copy one feature into a new column and shift it one or more rows down. Depending on the amount n of lag features, the dataframe gets n additional columns with n shifts in time.\n",
    "\n",
    "Unfortunately the setup with already 1.4 Million rows in the dataframe made it difficult to handle the addition of several hundret columns. When trying to give 50 lag features to each of the 7 feature columns (= 350 additional columns), the notebook crashed everytime I tried to train a model on it. By trying it with less features to lag, I noticed there was no significant increase in prediction accuracy when lagging features for more than 50 timeframes, so I stuck with n = 50. In terms of the amount of features to lag, lagging more than one feature seemed to improve the results, but since I couldn't reliably train a model on it, I will leave it here with lagging just the accel_norm column as an example.\n",
    "\n",
    "The following function creates n lag features to a column of choosing and puts everything in a new dataframe. Due to the lag, I need to drop the first n rows of every subject in every trial, because otherwise the first rows would have info from another subject/trial before. If we shift 50 timeframes in each of the rows, we need to discard the first 50 rows of every subject/trial."
   ]
  },
  {
   "cell_type": "code",
   "execution_count": 16,
   "id": "41b3be5c",
   "metadata": {
    "execution": {
     "iopub.execute_input": "2022-03-25T14:43:17.119289Z",
     "iopub.status.busy": "2022-03-25T14:43:17.118708Z",
     "iopub.status.idle": "2022-03-25T14:43:17.119867Z",
     "shell.execute_reply": "2022-03-25T14:43:17.120321Z",
     "shell.execute_reply.started": "2022-03-22T15:06:02.948982Z"
    },
    "papermill": {
     "duration": 0.733301,
     "end_time": "2022-03-25T14:43:17.120459",
     "exception": false,
     "start_time": "2022-03-25T14:43:16.387158",
     "status": "completed"
    },
    "tags": []
   },
   "outputs": [],
   "source": [
    "def create_lag_features(n, cols):\n",
    "    \"\"\"\n",
    "\n",
    "    Parameters\n",
    "    ----------\n",
    "    n : int\n",
    "        amount of lag features\n",
    "    cols : list\n",
    "        list of columns to lag\n",
    "\n",
    "    Returns\n",
    "    -------\n",
    "    pd.DataFrame\n",
    "        a dataframe with the list of columns lagged n times\n",
    "\n",
    "    \"\"\"\n",
    "\n",
    "    lag_features = n\n",
    "    lag_df = df.copy()\n",
    "\n",
    "    for j in cols:\n",
    "        for i in range(lag_features):\n",
    "            lag_df.insert(7+i, j + '_lag' + str(i+1), lag_df[j].shift(i+1))\n",
    "        \n",
    "    # Dropping all rows where the lag overlapped two different subjects/trials (n timeframes at the beginning of every trial).\n",
    "\n",
    "    for i in range(lag_features):\n",
    "        lag_df = lag_df.drop([i])\n",
    "    \n",
    "    return lag_df"
   ]
  },
  {
   "cell_type": "code",
   "execution_count": 17,
   "id": "b10432ea",
   "metadata": {
    "execution": {
     "iopub.execute_input": "2022-03-25T14:43:18.595224Z",
     "iopub.status.busy": "2022-03-25T14:43:18.594304Z",
     "iopub.status.idle": "2022-03-25T14:43:40.569387Z",
     "shell.execute_reply": "2022-03-25T14:43:40.568898Z",
     "shell.execute_reply.started": "2022-03-22T15:04:21.982252Z"
    },
    "papermill": {
     "duration": 22.71535,
     "end_time": "2022-03-25T14:43:40.569498",
     "exception": false,
     "start_time": "2022-03-25T14:43:17.854148",
     "status": "completed"
    },
    "tags": []
   },
   "outputs": [
    {
     "data": {
      "text/html": [
       "<div>\n",
       "<style scoped>\n",
       "    .dataframe tbody tr th:only-of-type {\n",
       "        vertical-align: middle;\n",
       "    }\n",
       "\n",
       "    .dataframe tbody tr th {\n",
       "        vertical-align: top;\n",
       "    }\n",
       "\n",
       "    .dataframe thead th {\n",
       "        text-align: right;\n",
       "    }\n",
       "</style>\n",
       "<table border=\"1\" class=\"dataframe\">\n",
       "  <thead>\n",
       "    <tr style=\"text-align: right;\">\n",
       "      <th></th>\n",
       "      <th>accel_x</th>\n",
       "      <th>accel_y</th>\n",
       "      <th>accel_z</th>\n",
       "      <th>accel_norm</th>\n",
       "      <th>gyro_x</th>\n",
       "      <th>gyro_y</th>\n",
       "      <th>gyro_z</th>\n",
       "      <th>accel_norm_lag1</th>\n",
       "      <th>accel_norm_lag2</th>\n",
       "      <th>accel_norm_lag3</th>\n",
       "      <th>...</th>\n",
       "      <th>accel_norm_lag44</th>\n",
       "      <th>accel_norm_lag45</th>\n",
       "      <th>accel_norm_lag46</th>\n",
       "      <th>accel_norm_lag47</th>\n",
       "      <th>accel_norm_lag48</th>\n",
       "      <th>accel_norm_lag49</th>\n",
       "      <th>accel_norm_lag50</th>\n",
       "      <th>subject</th>\n",
       "      <th>activity</th>\n",
       "      <th>trial</th>\n",
       "    </tr>\n",
       "    <tr>\n",
       "      <th>time</th>\n",
       "      <th></th>\n",
       "      <th></th>\n",
       "      <th></th>\n",
       "      <th></th>\n",
       "      <th></th>\n",
       "      <th></th>\n",
       "      <th></th>\n",
       "      <th></th>\n",
       "      <th></th>\n",
       "      <th></th>\n",
       "      <th></th>\n",
       "      <th></th>\n",
       "      <th></th>\n",
       "      <th></th>\n",
       "      <th></th>\n",
       "      <th></th>\n",
       "      <th></th>\n",
       "      <th></th>\n",
       "      <th></th>\n",
       "      <th></th>\n",
       "      <th></th>\n",
       "    </tr>\n",
       "  </thead>\n",
       "  <tbody>\n",
       "    <tr>\n",
       "      <th>50</th>\n",
       "      <td>0.130737</td>\n",
       "      <td>0.636841</td>\n",
       "      <td>0.025208</td>\n",
       "      <td>0.650611</td>\n",
       "      <td>1.135523</td>\n",
       "      <td>-0.807769</td>\n",
       "      <td>0.192803</td>\n",
       "      <td>0.728929</td>\n",
       "      <td>0.798274</td>\n",
       "      <td>0.982435</td>\n",
       "      <td>...</td>\n",
       "      <td>0.825510</td>\n",
       "      <td>0.825510</td>\n",
       "      <td>0.891308</td>\n",
       "      <td>0.840201</td>\n",
       "      <td>0.885712</td>\n",
       "      <td>1.004748</td>\n",
       "      <td>1.151985</td>\n",
       "      <td>16</td>\n",
       "      <td>dws</td>\n",
       "      <td>1</td>\n",
       "    </tr>\n",
       "    <tr>\n",
       "      <th>51</th>\n",
       "      <td>0.093628</td>\n",
       "      <td>0.609055</td>\n",
       "      <td>-0.068696</td>\n",
       "      <td>0.620027</td>\n",
       "      <td>1.576694</td>\n",
       "      <td>-0.883927</td>\n",
       "      <td>0.473720</td>\n",
       "      <td>0.650611</td>\n",
       "      <td>0.728929</td>\n",
       "      <td>0.798274</td>\n",
       "      <td>...</td>\n",
       "      <td>0.612106</td>\n",
       "      <td>0.825510</td>\n",
       "      <td>0.825510</td>\n",
       "      <td>0.891308</td>\n",
       "      <td>0.840201</td>\n",
       "      <td>0.885712</td>\n",
       "      <td>1.004748</td>\n",
       "      <td>16</td>\n",
       "      <td>dws</td>\n",
       "      <td>1</td>\n",
       "    </tr>\n",
       "    <tr>\n",
       "      <th>52</th>\n",
       "      <td>0.041718</td>\n",
       "      <td>0.671433</td>\n",
       "      <td>-0.156692</td>\n",
       "      <td>0.690735</td>\n",
       "      <td>2.215764</td>\n",
       "      <td>-0.635747</td>\n",
       "      <td>0.725694</td>\n",
       "      <td>0.620027</td>\n",
       "      <td>0.650611</td>\n",
       "      <td>0.728929</td>\n",
       "      <td>...</td>\n",
       "      <td>0.746748</td>\n",
       "      <td>0.612106</td>\n",
       "      <td>0.825510</td>\n",
       "      <td>0.825510</td>\n",
       "      <td>0.891308</td>\n",
       "      <td>0.840201</td>\n",
       "      <td>0.885712</td>\n",
       "      <td>16</td>\n",
       "      <td>dws</td>\n",
       "      <td>1</td>\n",
       "    </tr>\n",
       "    <tr>\n",
       "      <th>53</th>\n",
       "      <td>-0.072861</td>\n",
       "      <td>0.664520</td>\n",
       "      <td>-0.209060</td>\n",
       "      <td>0.700430</td>\n",
       "      <td>2.916685</td>\n",
       "      <td>-0.277571</td>\n",
       "      <td>0.856181</td>\n",
       "      <td>0.690735</td>\n",
       "      <td>0.620027</td>\n",
       "      <td>0.650611</td>\n",
       "      <td>...</td>\n",
       "      <td>0.746747</td>\n",
       "      <td>0.746748</td>\n",
       "      <td>0.612106</td>\n",
       "      <td>0.825510</td>\n",
       "      <td>0.825510</td>\n",
       "      <td>0.891308</td>\n",
       "      <td>0.840201</td>\n",
       "      <td>16</td>\n",
       "      <td>dws</td>\n",
       "      <td>1</td>\n",
       "    </tr>\n",
       "    <tr>\n",
       "      <th>54</th>\n",
       "      <td>-0.130996</td>\n",
       "      <td>0.597657</td>\n",
       "      <td>-0.197174</td>\n",
       "      <td>0.642831</td>\n",
       "      <td>2.889665</td>\n",
       "      <td>-0.057207</td>\n",
       "      <td>0.916598</td>\n",
       "      <td>0.700430</td>\n",
       "      <td>0.690735</td>\n",
       "      <td>0.620027</td>\n",
       "      <td>...</td>\n",
       "      <td>0.866394</td>\n",
       "      <td>0.746747</td>\n",
       "      <td>0.746748</td>\n",
       "      <td>0.612106</td>\n",
       "      <td>0.825510</td>\n",
       "      <td>0.825510</td>\n",
       "      <td>0.891308</td>\n",
       "      <td>16</td>\n",
       "      <td>dws</td>\n",
       "      <td>1</td>\n",
       "    </tr>\n",
       "  </tbody>\n",
       "</table>\n",
       "<p>5 rows × 60 columns</p>\n",
       "</div>"
      ],
      "text/plain": [
       "       accel_x   accel_y   accel_z  accel_norm    gyro_x    gyro_y    gyro_z  \\\n",
       "time                                                                           \n",
       "50    0.130737  0.636841  0.025208    0.650611  1.135523 -0.807769  0.192803   \n",
       "51    0.093628  0.609055 -0.068696    0.620027  1.576694 -0.883927  0.473720   \n",
       "52    0.041718  0.671433 -0.156692    0.690735  2.215764 -0.635747  0.725694   \n",
       "53   -0.072861  0.664520 -0.209060    0.700430  2.916685 -0.277571  0.856181   \n",
       "54   -0.130996  0.597657 -0.197174    0.642831  2.889665 -0.057207  0.916598   \n",
       "\n",
       "      accel_norm_lag1  accel_norm_lag2  accel_norm_lag3  ...  \\\n",
       "time                                                     ...   \n",
       "50           0.728929         0.798274         0.982435  ...   \n",
       "51           0.650611         0.728929         0.798274  ...   \n",
       "52           0.620027         0.650611         0.728929  ...   \n",
       "53           0.690735         0.620027         0.650611  ...   \n",
       "54           0.700430         0.690735         0.620027  ...   \n",
       "\n",
       "      accel_norm_lag44  accel_norm_lag45  accel_norm_lag46  accel_norm_lag47  \\\n",
       "time                                                                           \n",
       "50            0.825510          0.825510          0.891308          0.840201   \n",
       "51            0.612106          0.825510          0.825510          0.891308   \n",
       "52            0.746748          0.612106          0.825510          0.825510   \n",
       "53            0.746747          0.746748          0.612106          0.825510   \n",
       "54            0.866394          0.746747          0.746748          0.612106   \n",
       "\n",
       "      accel_norm_lag48  accel_norm_lag49  accel_norm_lag50  subject  activity  \\\n",
       "time                                                                            \n",
       "50            0.885712          1.004748          1.151985       16       dws   \n",
       "51            0.840201          0.885712          1.004748       16       dws   \n",
       "52            0.891308          0.840201          0.885712       16       dws   \n",
       "53            0.825510          0.891308          0.840201       16       dws   \n",
       "54            0.825510          0.825510          0.891308       16       dws   \n",
       "\n",
       "      trial  \n",
       "time         \n",
       "50        1  \n",
       "51        1  \n",
       "52        1  \n",
       "53        1  \n",
       "54        1  \n",
       "\n",
       "[5 rows x 60 columns]"
      ]
     },
     "execution_count": 17,
     "metadata": {},
     "output_type": "execute_result"
    }
   ],
   "source": [
    "lag_df = create_lag_features(50, ['accel_norm'])\n",
    "lag_df.head()"
   ]
  },
  {
   "cell_type": "code",
   "execution_count": 18,
   "id": "3e414a75",
   "metadata": {
    "execution": {
     "iopub.execute_input": "2022-03-25T14:43:42.034292Z",
     "iopub.status.busy": "2022-03-25T14:43:42.033620Z",
     "iopub.status.idle": "2022-03-25T14:43:42.414651Z",
     "shell.execute_reply": "2022-03-25T14:43:42.414092Z",
     "shell.execute_reply.started": "2022-03-18T10:28:17.844729Z"
    },
    "papermill": {
     "duration": 1.116998,
     "end_time": "2022-03-25T14:43:42.414785",
     "exception": false,
     "start_time": "2022-03-25T14:43:41.297787",
     "status": "completed"
    },
    "tags": []
   },
   "outputs": [],
   "source": [
    "# Training and test sets with lag and the corresponding features and targets.\n",
    "\n",
    "lag_train_df = lag_df[(lag_df.trial < 10)]\n",
    "lag_test_df = lag_df[(lag_df.trial > 10)]\n",
    "\n",
    "lag_X = lag_train_df.iloc[:,:-3]\n",
    "lag_y = lag_train_df.activity"
   ]
  },
  {
   "cell_type": "code",
   "execution_count": 19,
   "id": "088683aa",
   "metadata": {
    "execution": {
     "iopub.execute_input": "2022-03-25T14:43:43.877677Z",
     "iopub.status.busy": "2022-03-25T14:43:43.877188Z",
     "iopub.status.idle": "2022-03-25T14:47:42.879410Z",
     "shell.execute_reply": "2022-03-25T14:47:42.879794Z",
     "shell.execute_reply.started": "2022-03-18T10:38:17.454524Z"
    },
    "papermill": {
     "duration": 239.725078,
     "end_time": "2022-03-25T14:47:42.879948",
     "exception": false,
     "start_time": "2022-03-25T14:43:43.154870",
     "status": "completed"
    },
    "tags": []
   },
   "outputs": [
    {
     "data": {
      "text/plain": [
       "RandomForestClassifier(n_estimators=10)"
      ]
     },
     "execution_count": 19,
     "metadata": {},
     "output_type": "execute_result"
    }
   ],
   "source": [
    "# RandomForestClassifier\n",
    "\n",
    "lag_rfc = RandomForestClassifier(n_estimators=10)\n",
    "lag_rfc.fit(lag_X, lag_y)"
   ]
  },
  {
   "cell_type": "code",
   "execution_count": 20,
   "id": "29740438",
   "metadata": {
    "execution": {
     "iopub.execute_input": "2022-03-25T14:47:44.328623Z",
     "iopub.status.busy": "2022-03-25T14:47:44.328161Z",
     "iopub.status.idle": "2022-03-25T14:47:45.803280Z",
     "shell.execute_reply": "2022-03-25T14:47:45.803636Z",
     "shell.execute_reply.started": "2022-03-18T10:42:10.873669Z"
    },
    "papermill": {
     "duration": 2.196676,
     "end_time": "2022-03-25T14:47:45.803768",
     "exception": false,
     "start_time": "2022-03-25T14:47:43.607092",
     "status": "completed"
    },
    "tags": []
   },
   "outputs": [
    {
     "name": "stdout",
     "output_type": "stream",
     "text": [
      "dws: 81.32569711764154%\n",
      "ups: 78.83173561117535%\n",
      "sit: 99.82705181644174%\n",
      "std: 95.80156943701732%\n",
      "wlk: 94.15657385441378%\n",
      "jog: 94.666248606466%\n",
      "total: 94.29953210638489%\n"
     ]
    }
   ],
   "source": [
    "test_results(lag_rfc, lag_test_df)"
   ]
  },
  {
   "cell_type": "code",
   "execution_count": 21,
   "id": "fe2fcb97",
   "metadata": {
    "execution": {
     "iopub.execute_input": "2022-03-25T14:47:47.236363Z",
     "iopub.status.busy": "2022-03-25T14:47:47.235911Z",
     "iopub.status.idle": "2022-03-25T14:47:47.268757Z",
     "shell.execute_reply": "2022-03-25T14:47:47.268351Z",
     "shell.execute_reply.started": "2022-03-22T15:06:26.399768Z"
    },
    "papermill": {
     "duration": 0.744413,
     "end_time": "2022-03-25T14:47:47.268885",
     "exception": false,
     "start_time": "2022-03-25T14:47:46.524472",
     "status": "completed"
    },
    "tags": []
   },
   "outputs": [],
   "source": [
    "# Neural network for lag features.\n",
    "\n",
    "import tensorflow as tf\n",
    "\n",
    "lag_features = 50\n",
    "\n",
    "lag_cnn = Sequential()\n",
    "lag_cnn.add(Dense(64, input_dim=7+lag_features, activation='relu'))\n",
    "lag_cnn.add(Dense(32, activation='relu', kernel_regularizer=tf.keras.regularizers.l2(l=0.02)))\n",
    "lag_cnn.add(Dense(16, activation='relu'))\n",
    "lag_cnn.add(Dense(6, activation='softmax'))\n",
    "\n",
    "lag_opt = keras.optimizers.Adam(learning_rate=0.01)\n",
    "\n",
    "lag_cnn.compile(loss='categorical_crossentropy', optimizer=lag_opt, metrics=['accuracy'])"
   ]
  },
  {
   "cell_type": "code",
   "execution_count": 22,
   "id": "2da086ad",
   "metadata": {
    "execution": {
     "iopub.execute_input": "2022-03-25T14:47:48.846055Z",
     "iopub.status.busy": "2022-03-25T14:47:48.841139Z",
     "iopub.status.idle": "2022-03-25T14:47:50.112268Z",
     "shell.execute_reply": "2022-03-25T14:47:50.111732Z",
     "shell.execute_reply.started": "2022-03-18T10:58:46.170869Z"
    },
    "papermill": {
     "duration": 2.076685,
     "end_time": "2022-03-25T14:47:50.112380",
     "exception": false,
     "start_time": "2022-03-25T14:47:48.035695",
     "status": "completed"
    },
    "tags": []
   },
   "outputs": [],
   "source": [
    "# Encoding the targets by one-hot-encoding to a binary matrix (lag_dummy_y).\n",
    "\n",
    "lag_encoder = LabelEncoder()\n",
    "lag_encoder.fit(lag_y)\n",
    "lag_encoded_y = lag_encoder.transform(lag_y)\n",
    "\n",
    "lag_dummy_y = np_utils.to_categorical(lag_encoded_y)\n",
    "\n",
    "lag_train_X, lag_val_X, lag_train_y, lag_val_y = train_test_split(lag_X, lag_dummy_y, shuffle=True)"
   ]
  },
  {
   "cell_type": "code",
   "execution_count": 23,
   "id": "23fe115a",
   "metadata": {
    "execution": {
     "iopub.execute_input": "2022-03-25T14:47:51.593083Z",
     "iopub.status.busy": "2022-03-25T14:47:51.592562Z",
     "iopub.status.idle": "2022-03-25T14:50:18.992387Z",
     "shell.execute_reply": "2022-03-25T14:50:18.991977Z",
     "shell.execute_reply.started": "2022-03-18T10:58:50.389387Z"
    },
    "papermill": {
     "duration": 148.137392,
     "end_time": "2022-03-25T14:50:18.992497",
     "exception": false,
     "start_time": "2022-03-25T14:47:50.855105",
     "status": "completed"
    },
    "tags": []
   },
   "outputs": [
    {
     "name": "stdout",
     "output_type": "stream",
     "text": [
      "Epoch 1/10\n",
      "4015/4015 [==============================] - 16s 4ms/step - loss: 0.4638 - accuracy: 0.8390 - val_loss: 0.3533 - val_accuracy: 0.8867\n",
      "Epoch 2/10\n",
      "4015/4015 [==============================] - 15s 4ms/step - loss: 0.3499 - accuracy: 0.8851 - val_loss: 0.3274 - val_accuracy: 0.8926\n",
      "Epoch 3/10\n",
      "4015/4015 [==============================] - 14s 3ms/step - loss: 0.3274 - accuracy: 0.8925 - val_loss: 0.3086 - val_accuracy: 0.9011\n",
      "Epoch 4/10\n",
      "4015/4015 [==============================] - 15s 4ms/step - loss: 0.3181 - accuracy: 0.8956 - val_loss: 0.3158 - val_accuracy: 0.8995\n",
      "Epoch 5/10\n",
      "4015/4015 [==============================] - 14s 4ms/step - loss: 0.3125 - accuracy: 0.8977 - val_loss: 0.3065 - val_accuracy: 0.8980\n",
      "Epoch 6/10\n",
      "4015/4015 [==============================] - 15s 4ms/step - loss: 0.3064 - accuracy: 0.8993 - val_loss: 0.3191 - val_accuracy: 0.8943\n",
      "Epoch 7/10\n",
      "4015/4015 [==============================] - 14s 4ms/step - loss: 0.3042 - accuracy: 0.9003 - val_loss: 0.2981 - val_accuracy: 0.9025\n",
      "Epoch 8/10\n",
      "4015/4015 [==============================] - 15s 4ms/step - loss: 0.3011 - accuracy: 0.9016 - val_loss: 0.3295 - val_accuracy: 0.8937\n",
      "Epoch 9/10\n",
      "4015/4015 [==============================] - 15s 4ms/step - loss: 0.2992 - accuracy: 0.9025 - val_loss: 0.2897 - val_accuracy: 0.9067\n",
      "Epoch 10/10\n",
      "4015/4015 [==============================] - 15s 4ms/step - loss: 0.2977 - accuracy: 0.9029 - val_loss: 0.2916 - val_accuracy: 0.9054\n"
     ]
    },
    {
     "data": {
      "image/png": "[encoded data removed]",
      "text/plain": [
       "<Figure size 432x288 with 1 Axes>"
      ]
     },
     "metadata": {
      "needs_background": "light"
     },
     "output_type": "display_data"
    }
   ],
   "source": [
    "history = lag_cnn.fit(lag_train_X, lag_train_y, epochs=10, batch_size=200, validation_data=(lag_val_X, lag_val_y))\n",
    "history_df = pd.DataFrame(history.history)\n",
    "history_df.loc[:, ['loss', 'val_loss']].plot()\n",
    "plt.show()"
   ]
  },
  {
   "cell_type": "code",
   "execution_count": 24,
   "id": "86976a3f",
   "metadata": {
    "execution": {
     "iopub.execute_input": "2022-03-25T14:50:21.965700Z",
     "iopub.status.busy": "2022-03-25T14:50:21.940703Z",
     "iopub.status.idle": "2022-03-25T14:50:38.972409Z",
     "shell.execute_reply": "2022-03-25T14:50:38.972834Z",
     "shell.execute_reply.started": "2022-03-18T11:01:17.224886Z"
    },
    "papermill": {
     "duration": 18.495884,
     "end_time": "2022-03-25T14:50:38.972981",
     "exception": false,
     "start_time": "2022-03-25T14:50:20.477097",
     "status": "completed"
    },
    "tags": []
   },
   "outputs": [
    {
     "name": "stdout",
     "output_type": "stream",
     "text": [
      "dws: 55.92432635433293%\n",
      "ups: 73.58722816964452%\n",
      "sit: 99.51710535264911%\n",
      "std: 95.69088806257851%\n",
      "wlk: 93.60407042077664%\n",
      "jog: 94.60353957636566%\n",
      "total: 91.95636282882866%\n"
     ]
    }
   ],
   "source": [
    "cnn_test_results(lag_cnn, lag_test_df)"
   ]
  },
  {
   "cell_type": "markdown",
   "id": "ef72fd24",
   "metadata": {
    "execution": {
     "iopub.execute_input": "2022-03-16T10:24:48.118469Z",
     "iopub.status.busy": "2022-03-16T10:24:48.118164Z",
     "iopub.status.idle": "2022-03-16T10:24:49.26253Z",
     "shell.execute_reply": "2022-03-16T10:24:49.2615Z",
     "shell.execute_reply.started": "2022-03-16T10:24:48.118433Z"
    },
    "papermill": {
     "duration": 1.429888,
     "end_time": "2022-03-25T14:50:41.845444",
     "exception": false,
     "start_time": "2022-03-25T14:50:40.415556",
     "status": "completed"
    },
    "tags": []
   },
   "source": [
    "It is noticable that the lag features improved the results a lot. The RandomForestClassifier even did better in some ways than the neural net, although there would also be more to tune in the cnn model. I experimented with L2 regularizers this time and noticed further improvements, so that is something to consider. But because I wasn't quite satisfied with the lag features (and not being able to implement the amount I wanted to), I will take another approach. But before closing off the lag features, I will use a confusion matrix for visualization of the results of the cnn model."
   ]
  },
  {
   "cell_type": "code",
   "execution_count": 25,
   "id": "91c6fdfc",
   "metadata": {
    "execution": {
     "iopub.execute_input": "2022-03-25T14:50:44.754478Z",
     "iopub.status.busy": "2022-03-25T14:50:44.753960Z",
     "iopub.status.idle": "2022-03-25T14:50:44.756587Z",
     "shell.execute_reply": "2022-03-25T14:50:44.756181Z",
     "shell.execute_reply.started": "2022-03-25T12:58:16.027040Z"
    },
    "papermill": {
     "duration": 1.465809,
     "end_time": "2022-03-25T14:50:44.756709",
     "exception": false,
     "start_time": "2022-03-25T14:50:43.290900",
     "status": "completed"
    },
    "tags": []
   },
   "outputs": [],
   "source": [
    "# Quick function for generating a list of the predictions to compare with the targets, instead of a matrix of their probabilities.\n",
    "\n",
    "def cnn_pred_list(model, df):\n",
    "    \"\"\"\n",
    "    \n",
    "    Parameters\n",
    "    ----------\n",
    "    model : tf.keras.Sequential()\n",
    "        a model in form of a convolutional neural network, Sequential used here\n",
    "    \n",
    "    df : pd.DataFrame\n",
    "        a dataframe on which the model makes predictions, including the activity column as target\n",
    "\n",
    "    Returns\n",
    "    -------\n",
    "    l : list\n",
    "        a list of the encrypted predictions of the model\n",
    "    \n",
    "    y : pd.Series\n",
    "        the target vector to compare with the prediction list\n",
    "    \n",
    "    \"\"\"\n",
    "    l = []\n",
    "    X = df.iloc[:,:-3]\n",
    "    y = df.activity\n",
    "    preds = model.predict(X)\n",
    "    encoder = LabelEncoder()\n",
    "    encoder.fit(y)\n",
    "    for i in range(len(preds)):\n",
    "        l.append(list(encoder.classes_)[np.argmax(preds[i])])\n",
    "    return l, y"
   ]
  },
  {
   "cell_type": "code",
   "execution_count": 26,
   "id": "85644011",
   "metadata": {
    "execution": {
     "iopub.execute_input": "2022-03-25T14:50:47.737720Z",
     "iopub.status.busy": "2022-03-25T14:50:47.737215Z",
     "iopub.status.idle": "2022-03-25T14:51:09.471876Z",
     "shell.execute_reply": "2022-03-25T14:51:09.472456Z",
     "shell.execute_reply.started": "2022-03-18T11:02:10.168281Z"
    },
    "papermill": {
     "duration": 23.224651,
     "end_time": "2022-03-25T14:51:09.472637",
     "exception": false,
     "start_time": "2022-03-25T14:50:46.247986",
     "status": "completed"
    },
    "tags": []
   },
   "outputs": [],
   "source": [
    "lag_pred, lag_y = cnn_pred_list(lag_cnn, lag_test_df)"
   ]
  },
  {
   "cell_type": "code",
   "execution_count": 27,
   "id": "542daf2b",
   "metadata": {
    "execution": {
     "iopub.execute_input": "2022-03-25T14:51:13.186478Z",
     "iopub.status.busy": "2022-03-25T14:51:13.185990Z",
     "iopub.status.idle": "2022-03-25T14:51:14.078491Z",
     "shell.execute_reply": "2022-03-25T14:51:14.078094Z",
     "shell.execute_reply.started": "2022-03-18T11:02:26.894412Z"
    },
    "papermill": {
     "duration": 2.365329,
     "end_time": "2022-03-25T14:51:14.078607",
     "exception": false,
     "start_time": "2022-03-25T14:51:11.713278",
     "status": "completed"
    },
    "tags": []
   },
   "outputs": [
    {
     "data": {
      "image/png": "[encoded data removed]",
      "text/plain": [
       "<Figure size 432x288 with 2 Axes>"
      ]
     },
     "metadata": {
      "needs_background": "light"
     },
     "output_type": "display_data"
    }
   ],
   "source": [
    "from sklearn.metrics import confusion_matrix\n",
    "from sklearn.metrics import ConfusionMatrixDisplay\n",
    "from matplotlib import pyplot as plt\n",
    "\n",
    "conf_mat = confusion_matrix(lag_pred, lag_y, labels=activities)\n",
    "conf_mat_disp = ConfusionMatrixDisplay(confusion_matrix=conf_mat, display_labels=activities)\n",
    "conf_mat_disp.plot(cmap='Greens')\n",
    "plt.show()"
   ]
  },
  {
   "cell_type": "markdown",
   "id": "3d57cb2d",
   "metadata": {
    "papermill": {
     "duration": 1.439641,
     "end_time": "2022-03-25T14:51:16.959940",
     "exception": false,
     "start_time": "2022-03-25T14:51:15.520299",
     "status": "completed"
    },
    "tags": []
   },
   "source": [
    "# Rolling features\n",
    "\n",
    "My next approach is the implementation of rolling features. I saw in some other notebooks the use of the groupby function for generating means and other values by grouping the features by trial. Since I want the final model to be able to classify the activity without any input about the trial, I will make use of the rolling function, which takes an amount of directly preceding values to generate stuff like mean, median etc. So for my later input data, I don't need anything else than a set of preceding motion data.\n",
    "\n",
    "I tried some other features as well, such as the product of accel and gyro values, sine and cosine because of their type of curves, but in the end the rolling features worked best. Rolling max, min or skew didn't show much of an improvement, so I stuck with median, mean and standard deviation. I also tried to combine some rolling features with a set of lag features, but that didn't turn out to work so well, probably because it overcomplicates the input data.\n",
    "\n"
   ]
  },
  {
   "cell_type": "code",
   "execution_count": 28,
   "id": "dd0820d2",
   "metadata": {
    "execution": {
     "iopub.execute_input": "2022-03-25T14:51:19.891168Z",
     "iopub.status.busy": "2022-03-25T14:51:19.890643Z",
     "iopub.status.idle": "2022-03-25T14:51:19.899283Z",
     "shell.execute_reply": "2022-03-25T14:51:19.898832Z",
     "shell.execute_reply.started": "2022-03-25T12:58:20.221866Z"
    },
    "papermill": {
     "duration": 1.484238,
     "end_time": "2022-03-25T14:51:19.899404",
     "exception": false,
     "start_time": "2022-03-25T14:51:18.415166",
     "status": "completed"
    },
    "tags": []
   },
   "outputs": [],
   "source": [
    "# Creating rolling feature columns.\n",
    "\n",
    "def create_feature_columns(k):\n",
    "    \"\"\"\n",
    "    \n",
    "    Parameters\n",
    "    ----------\n",
    "    k : int\n",
    "        the amount of steps for the rolling features\n",
    "\n",
    "    Returns\n",
    "    -------\n",
    "    pd.Dataframe\n",
    "        a new dataframe with rolling features over k steps\n",
    "\n",
    "    \"\"\"\n",
    "    \n",
    "    feat_df = df.copy()\n",
    "    cols = feat_df.iloc[:,:-3].columns\n",
    "\n",
    "    j = 1\n",
    "    for i in cols:\n",
    "        feat_df.insert(j, f'{i}_rmean', feat_df[i].rolling(k).mean())\n",
    "        feat_df.insert(j+1, f'{i}_rstd', feat_df[i].rolling(k).std())\n",
    "        feat_df.insert(j+2, f'{i}_rmed', feat_df[i].rolling(k).median())\n",
    "        #feat_df.insert(j+3, f'{i}_rskew', feat_df[i].rolling(k).skew())\n",
    "        #feat_df.insert(j+4, f'{i}_rmax', feat_df[i].rolling(k).max())\n",
    "        #feat_df.insert(j+5, f'{i}_rmin', feat_df[i].rolling(k).min())\n",
    "        #feat_df.insert(j+6, f'{i}_squared', feat_df[i]**2)\n",
    "        j += 4\n",
    "\n",
    "    # Dropping all rows where the lag overlapped two different subjects/trials.\n",
    "\n",
    "    for i in range(k):\n",
    "        feat_df = feat_df.drop([i])\n",
    "    \n",
    "    return feat_df"
   ]
  },
  {
   "cell_type": "code",
   "execution_count": 29,
   "id": "3b76d5a9",
   "metadata": {
    "execution": {
     "iopub.execute_input": "2022-03-25T14:51:22.808544Z",
     "iopub.status.busy": "2022-03-25T14:51:22.807215Z",
     "iopub.status.idle": "2022-03-25T14:52:22.469757Z",
     "shell.execute_reply": "2022-03-25T14:52:22.470340Z",
     "shell.execute_reply.started": "2022-03-25T12:58:23.211641Z"
    },
    "papermill": {
     "duration": 61.126171,
     "end_time": "2022-03-25T14:52:22.470772",
     "exception": false,
     "start_time": "2022-03-25T14:51:21.344601",
     "status": "completed"
    },
    "tags": []
   },
   "outputs": [],
   "source": [
    "feat_df = create_feature_columns(150)"
   ]
  },
  {
   "cell_type": "code",
   "execution_count": 30,
   "id": "5887dbea",
   "metadata": {
    "execution": {
     "iopub.execute_input": "2022-03-25T14:52:25.391296Z",
     "iopub.status.busy": "2022-03-25T14:52:25.332969Z",
     "iopub.status.idle": "2022-03-25T14:52:25.604524Z",
     "shell.execute_reply": "2022-03-25T14:52:25.604006Z",
     "shell.execute_reply.started": "2022-03-24T16:23:09.587683Z"
    },
    "papermill": {
     "duration": 1.693497,
     "end_time": "2022-03-25T14:52:25.604632",
     "exception": false,
     "start_time": "2022-03-25T14:52:23.911135",
     "status": "completed"
    },
    "tags": []
   },
   "outputs": [
    {
     "data": {
      "text/html": [
       "<div>\n",
       "<style scoped>\n",
       "    .dataframe tbody tr th:only-of-type {\n",
       "        vertical-align: middle;\n",
       "    }\n",
       "\n",
       "    .dataframe tbody tr th {\n",
       "        vertical-align: top;\n",
       "    }\n",
       "\n",
       "    .dataframe thead th {\n",
       "        text-align: right;\n",
       "    }\n",
       "</style>\n",
       "<table border=\"1\" class=\"dataframe\">\n",
       "  <thead>\n",
       "    <tr style=\"text-align: right;\">\n",
       "      <th></th>\n",
       "      <th>accel_x</th>\n",
       "      <th>accel_x_rmean</th>\n",
       "      <th>accel_x_rstd</th>\n",
       "      <th>accel_x_rmed</th>\n",
       "      <th>accel_y</th>\n",
       "      <th>accel_y_rmean</th>\n",
       "      <th>accel_y_rstd</th>\n",
       "      <th>accel_y_rmed</th>\n",
       "      <th>accel_z</th>\n",
       "      <th>accel_z_rmean</th>\n",
       "      <th>...</th>\n",
       "      <th>gyro_y_rmean</th>\n",
       "      <th>gyro_y_rstd</th>\n",
       "      <th>gyro_y_rmed</th>\n",
       "      <th>gyro_z</th>\n",
       "      <th>gyro_z_rmean</th>\n",
       "      <th>gyro_z_rstd</th>\n",
       "      <th>gyro_z_rmed</th>\n",
       "      <th>subject</th>\n",
       "      <th>activity</th>\n",
       "      <th>trial</th>\n",
       "    </tr>\n",
       "    <tr>\n",
       "      <th>time</th>\n",
       "      <th></th>\n",
       "      <th></th>\n",
       "      <th></th>\n",
       "      <th></th>\n",
       "      <th></th>\n",
       "      <th></th>\n",
       "      <th></th>\n",
       "      <th></th>\n",
       "      <th></th>\n",
       "      <th></th>\n",
       "      <th></th>\n",
       "      <th></th>\n",
       "      <th></th>\n",
       "      <th></th>\n",
       "      <th></th>\n",
       "      <th></th>\n",
       "      <th></th>\n",
       "      <th></th>\n",
       "      <th></th>\n",
       "      <th></th>\n",
       "      <th></th>\n",
       "    </tr>\n",
       "  </thead>\n",
       "  <tbody>\n",
       "    <tr>\n",
       "      <th>150</th>\n",
       "      <td>-0.252700</td>\n",
       "      <td>0.266308</td>\n",
       "      <td>0.290877</td>\n",
       "      <td>0.285499</td>\n",
       "      <td>0.778031</td>\n",
       "      <td>0.912268</td>\n",
       "      <td>0.439799</td>\n",
       "      <td>0.815392</td>\n",
       "      <td>-0.150726</td>\n",
       "      <td>-0.250131</td>\n",
       "      <td>...</td>\n",
       "      <td>0.034013</td>\n",
       "      <td>0.480562</td>\n",
       "      <td>0.030090</td>\n",
       "      <td>-0.005361</td>\n",
       "      <td>0.014811</td>\n",
       "      <td>0.804590</td>\n",
       "      <td>-0.040035</td>\n",
       "      <td>16</td>\n",
       "      <td>dws</td>\n",
       "      <td>1</td>\n",
       "    </tr>\n",
       "    <tr>\n",
       "      <th>151</th>\n",
       "      <td>-0.245972</td>\n",
       "      <td>0.262156</td>\n",
       "      <td>0.293720</td>\n",
       "      <td>0.281883</td>\n",
       "      <td>0.339157</td>\n",
       "      <td>0.908335</td>\n",
       "      <td>0.442278</td>\n",
       "      <td>0.811051</td>\n",
       "      <td>0.100784</td>\n",
       "      <td>-0.249013</td>\n",
       "      <td>...</td>\n",
       "      <td>0.030929</td>\n",
       "      <td>0.481304</td>\n",
       "      <td>0.022535</td>\n",
       "      <td>-0.268671</td>\n",
       "      <td>0.016546</td>\n",
       "      <td>0.803689</td>\n",
       "      <td>-0.040035</td>\n",
       "      <td>16</td>\n",
       "      <td>dws</td>\n",
       "      <td>1</td>\n",
       "    </tr>\n",
       "    <tr>\n",
       "      <th>152</th>\n",
       "      <td>-0.086731</td>\n",
       "      <td>0.259435</td>\n",
       "      <td>0.295054</td>\n",
       "      <td>0.276253</td>\n",
       "      <td>0.288132</td>\n",
       "      <td>0.904755</td>\n",
       "      <td>0.445120</td>\n",
       "      <td>0.809868</td>\n",
       "      <td>0.112000</td>\n",
       "      <td>-0.248348</td>\n",
       "      <td>...</td>\n",
       "      <td>0.029163</td>\n",
       "      <td>0.481784</td>\n",
       "      <td>0.016206</td>\n",
       "      <td>-0.365836</td>\n",
       "      <td>0.017431</td>\n",
       "      <td>0.803191</td>\n",
       "      <td>-0.040035</td>\n",
       "      <td>16</td>\n",
       "      <td>dws</td>\n",
       "      <td>1</td>\n",
       "    </tr>\n",
       "    <tr>\n",
       "      <th>153</th>\n",
       "      <td>0.032562</td>\n",
       "      <td>0.257739</td>\n",
       "      <td>0.295626</td>\n",
       "      <td>0.272629</td>\n",
       "      <td>0.448700</td>\n",
       "      <td>0.902482</td>\n",
       "      <td>0.446580</td>\n",
       "      <td>0.809868</td>\n",
       "      <td>0.052536</td>\n",
       "      <td>-0.248062</td>\n",
       "      <td>...</td>\n",
       "      <td>0.026189</td>\n",
       "      <td>0.484044</td>\n",
       "      <td>0.016206</td>\n",
       "      <td>-0.313615</td>\n",
       "      <td>0.017996</td>\n",
       "      <td>0.802927</td>\n",
       "      <td>-0.040035</td>\n",
       "      <td>16</td>\n",
       "      <td>dws</td>\n",
       "      <td>1</td>\n",
       "    </tr>\n",
       "    <tr>\n",
       "      <th>154</th>\n",
       "      <td>0.327210</td>\n",
       "      <td>0.258027</td>\n",
       "      <td>0.295672</td>\n",
       "      <td>0.272629</td>\n",
       "      <td>2.036118</td>\n",
       "      <td>0.910434</td>\n",
       "      <td>0.456039</td>\n",
       "      <td>0.809868</td>\n",
       "      <td>0.216187</td>\n",
       "      <td>-0.246276</td>\n",
       "      <td>...</td>\n",
       "      <td>0.022567</td>\n",
       "      <td>0.487073</td>\n",
       "      <td>0.016206</td>\n",
       "      <td>-0.222199</td>\n",
       "      <td>0.017809</td>\n",
       "      <td>0.802980</td>\n",
       "      <td>-0.040035</td>\n",
       "      <td>16</td>\n",
       "      <td>dws</td>\n",
       "      <td>1</td>\n",
       "    </tr>\n",
       "    <tr>\n",
       "      <th>...</th>\n",
       "      <td>...</td>\n",
       "      <td>...</td>\n",
       "      <td>...</td>\n",
       "      <td>...</td>\n",
       "      <td>...</td>\n",
       "      <td>...</td>\n",
       "      <td>...</td>\n",
       "      <td>...</td>\n",
       "      <td>...</td>\n",
       "      <td>...</td>\n",
       "      <td>...</td>\n",
       "      <td>...</td>\n",
       "      <td>...</td>\n",
       "      <td>...</td>\n",
       "      <td>...</td>\n",
       "      <td>...</td>\n",
       "      <td>...</td>\n",
       "      <td>...</td>\n",
       "      <td>...</td>\n",
       "      <td>...</td>\n",
       "      <td>...</td>\n",
       "    </tr>\n",
       "    <tr>\n",
       "      <th>6859</th>\n",
       "      <td>0.101487</td>\n",
       "      <td>-0.024802</td>\n",
       "      <td>0.239415</td>\n",
       "      <td>0.019738</td>\n",
       "      <td>1.568817</td>\n",
       "      <td>1.006227</td>\n",
       "      <td>0.406361</td>\n",
       "      <td>0.975129</td>\n",
       "      <td>-0.151886</td>\n",
       "      <td>-0.026296</td>\n",
       "      <td>...</td>\n",
       "      <td>-0.103489</td>\n",
       "      <td>0.711646</td>\n",
       "      <td>-0.013985</td>\n",
       "      <td>-0.354167</td>\n",
       "      <td>0.139480</td>\n",
       "      <td>0.963486</td>\n",
       "      <td>-0.094505</td>\n",
       "      <td>7</td>\n",
       "      <td>wlk</td>\n",
       "      <td>7</td>\n",
       "    </tr>\n",
       "    <tr>\n",
       "      <th>6860</th>\n",
       "      <td>-0.389420</td>\n",
       "      <td>-0.026792</td>\n",
       "      <td>0.241202</td>\n",
       "      <td>0.019738</td>\n",
       "      <td>1.524643</td>\n",
       "      <td>1.009447</td>\n",
       "      <td>0.408551</td>\n",
       "      <td>0.975129</td>\n",
       "      <td>0.047653</td>\n",
       "      <td>-0.026352</td>\n",
       "      <td>...</td>\n",
       "      <td>-0.105814</td>\n",
       "      <td>0.710497</td>\n",
       "      <td>-0.013985</td>\n",
       "      <td>-0.452342</td>\n",
       "      <td>0.140182</td>\n",
       "      <td>0.963013</td>\n",
       "      <td>-0.094505</td>\n",
       "      <td>7</td>\n",
       "      <td>wlk</td>\n",
       "      <td>7</td>\n",
       "    </tr>\n",
       "    <tr>\n",
       "      <th>6861</th>\n",
       "      <td>-0.261795</td>\n",
       "      <td>-0.027678</td>\n",
       "      <td>0.241823</td>\n",
       "      <td>0.019738</td>\n",
       "      <td>1.058045</td>\n",
       "      <td>1.009138</td>\n",
       "      <td>0.408496</td>\n",
       "      <td>0.975129</td>\n",
       "      <td>0.002655</td>\n",
       "      <td>-0.026852</td>\n",
       "      <td>...</td>\n",
       "      <td>-0.108328</td>\n",
       "      <td>0.708578</td>\n",
       "      <td>-0.013985</td>\n",
       "      <td>0.098493</td>\n",
       "      <td>0.144218</td>\n",
       "      <td>0.961550</td>\n",
       "      <td>-0.081249</td>\n",
       "      <td>7</td>\n",
       "      <td>wlk</td>\n",
       "      <td>7</td>\n",
       "    </tr>\n",
       "    <tr>\n",
       "      <th>6862</th>\n",
       "      <td>-0.217759</td>\n",
       "      <td>-0.030037</td>\n",
       "      <td>0.241940</td>\n",
       "      <td>0.013588</td>\n",
       "      <td>0.728638</td>\n",
       "      <td>1.006186</td>\n",
       "      <td>0.408915</td>\n",
       "      <td>0.974587</td>\n",
       "      <td>0.039276</td>\n",
       "      <td>-0.027646</td>\n",
       "      <td>...</td>\n",
       "      <td>-0.113715</td>\n",
       "      <td>0.706357</td>\n",
       "      <td>-0.041991</td>\n",
       "      <td>0.272167</td>\n",
       "      <td>0.149107</td>\n",
       "      <td>0.960314</td>\n",
       "      <td>-0.044265</td>\n",
       "      <td>7</td>\n",
       "      <td>wlk</td>\n",
       "      <td>7</td>\n",
       "    </tr>\n",
       "    <tr>\n",
       "      <th>6863</th>\n",
       "      <td>-0.131256</td>\n",
       "      <td>-0.032405</td>\n",
       "      <td>0.241175</td>\n",
       "      <td>0.004967</td>\n",
       "      <td>0.836212</td>\n",
       "      <td>1.004482</td>\n",
       "      <td>0.409088</td>\n",
       "      <td>0.974060</td>\n",
       "      <td>0.230423</td>\n",
       "      <td>-0.026437</td>\n",
       "      <td>...</td>\n",
       "      <td>-0.115099</td>\n",
       "      <td>0.706092</td>\n",
       "      <td>-0.063236</td>\n",
       "      <td>-0.367962</td>\n",
       "      <td>0.148916</td>\n",
       "      <td>0.960415</td>\n",
       "      <td>-0.044265</td>\n",
       "      <td>7</td>\n",
       "      <td>wlk</td>\n",
       "      <td>7</td>\n",
       "    </tr>\n",
       "  </tbody>\n",
       "</table>\n",
       "<p>1358865 rows × 31 columns</p>\n",
       "</div>"
      ],
      "text/plain": [
       "       accel_x  accel_x_rmean  accel_x_rstd  accel_x_rmed   accel_y  \\\n",
       "time                                                                  \n",
       "150  -0.252700       0.266308      0.290877      0.285499  0.778031   \n",
       "151  -0.245972       0.262156      0.293720      0.281883  0.339157   \n",
       "152  -0.086731       0.259435      0.295054      0.276253  0.288132   \n",
       "153   0.032562       0.257739      0.295626      0.272629  0.448700   \n",
       "154   0.327210       0.258027      0.295672      0.272629  2.036118   \n",
       "...        ...            ...           ...           ...       ...   \n",
       "6859  0.101487      -0.024802      0.239415      0.019738  1.568817   \n",
       "6860 -0.389420      -0.026792      0.241202      0.019738  1.524643   \n",
       "6861 -0.261795      -0.027678      0.241823      0.019738  1.058045   \n",
       "6862 -0.217759      -0.030037      0.241940      0.013588  0.728638   \n",
       "6863 -0.131256      -0.032405      0.241175      0.004967  0.836212   \n",
       "\n",
       "      accel_y_rmean  accel_y_rstd  accel_y_rmed   accel_z  accel_z_rmean  ...  \\\n",
       "time                                                                      ...   \n",
       "150        0.912268      0.439799      0.815392 -0.150726      -0.250131  ...   \n",
       "151        0.908335      0.442278      0.811051  0.100784      -0.249013  ...   \n",
       "152        0.904755      0.445120      0.809868  0.112000      -0.248348  ...   \n",
       "153        0.902482      0.446580      0.809868  0.052536      -0.248062  ...   \n",
       "154        0.910434      0.456039      0.809868  0.216187      -0.246276  ...   \n",
       "...             ...           ...           ...       ...            ...  ...   \n",
       "6859       1.006227      0.406361      0.975129 -0.151886      -0.026296  ...   \n",
       "6860       1.009447      0.408551      0.975129  0.047653      -0.026352  ...   \n",
       "6861       1.009138      0.408496      0.975129  0.002655      -0.026852  ...   \n",
       "6862       1.006186      0.408915      0.974587  0.039276      -0.027646  ...   \n",
       "6863       1.004482      0.409088      0.974060  0.230423      -0.026437  ...   \n",
       "\n",
       "      gyro_y_rmean  gyro_y_rstd  gyro_y_rmed    gyro_z  gyro_z_rmean  \\\n",
       "time                                                                   \n",
       "150       0.034013     0.480562     0.030090 -0.005361      0.014811   \n",
       "151       0.030929     0.481304     0.022535 -0.268671      0.016546   \n",
       "152       0.029163     0.481784     0.016206 -0.365836      0.017431   \n",
       "153       0.026189     0.484044     0.016206 -0.313615      0.017996   \n",
       "154       0.022567     0.487073     0.016206 -0.222199      0.017809   \n",
       "...            ...          ...          ...       ...           ...   \n",
       "6859     -0.103489     0.711646    -0.013985 -0.354167      0.139480   \n",
       "6860     -0.105814     0.710497    -0.013985 -0.452342      0.140182   \n",
       "6861     -0.108328     0.708578    -0.013985  0.098493      0.144218   \n",
       "6862     -0.113715     0.706357    -0.041991  0.272167      0.149107   \n",
       "6863     -0.115099     0.706092    -0.063236 -0.367962      0.148916   \n",
       "\n",
       "      gyro_z_rstd  gyro_z_rmed  subject  activity  trial  \n",
       "time                                                      \n",
       "150      0.804590    -0.040035       16       dws      1  \n",
       "151      0.803689    -0.040035       16       dws      1  \n",
       "152      0.803191    -0.040035       16       dws      1  \n",
       "153      0.802927    -0.040035       16       dws      1  \n",
       "154      0.802980    -0.040035       16       dws      1  \n",
       "...           ...          ...      ...       ...    ...  \n",
       "6859     0.963486    -0.094505        7       wlk      7  \n",
       "6860     0.963013    -0.094505        7       wlk      7  \n",
       "6861     0.961550    -0.081249        7       wlk      7  \n",
       "6862     0.960314    -0.044265        7       wlk      7  \n",
       "6863     0.960415    -0.044265        7       wlk      7  \n",
       "\n",
       "[1358865 rows x 31 columns]"
      ]
     },
     "execution_count": 30,
     "metadata": {},
     "output_type": "execute_result"
    }
   ],
   "source": [
    "feat_df"
   ]
  },
  {
   "cell_type": "code",
   "execution_count": 31,
   "id": "27b77475",
   "metadata": {
    "execution": {
     "iopub.execute_input": "2022-03-25T14:52:28.986063Z",
     "iopub.status.busy": "2022-03-25T14:52:28.985454Z",
     "iopub.status.idle": "2022-03-25T14:52:29.237912Z",
     "shell.execute_reply": "2022-03-25T14:52:29.238324Z",
     "shell.execute_reply.started": "2022-03-25T12:59:55.290353Z"
    },
    "papermill": {
     "duration": 1.70428,
     "end_time": "2022-03-25T14:52:29.238465",
     "exception": false,
     "start_time": "2022-03-25T14:52:27.534185",
     "status": "completed"
    },
    "tags": []
   },
   "outputs": [],
   "source": [
    "feat_train_df = feat_df[(feat_df.trial < 10)]\n",
    "feat_test_df = feat_df[(feat_df.trial > 10)]\n",
    "\n",
    "feat_X = feat_train_df.iloc[:,:-3]\n",
    "feat_y = feat_train_df.activity"
   ]
  },
  {
   "cell_type": "code",
   "execution_count": 32,
   "id": "de069a2a",
   "metadata": {
    "execution": {
     "iopub.execute_input": "2022-03-25T14:52:32.125132Z",
     "iopub.status.busy": "2022-03-25T14:52:32.124283Z",
     "iopub.status.idle": "2022-03-25T14:54:05.159580Z",
     "shell.execute_reply": "2022-03-25T14:54:05.159989Z",
     "shell.execute_reply.started": "2022-03-16T14:29:52.530253Z"
    },
    "papermill": {
     "duration": 94.47545,
     "end_time": "2022-03-25T14:54:05.160157",
     "exception": false,
     "start_time": "2022-03-25T14:52:30.684707",
     "status": "completed"
    },
    "tags": []
   },
   "outputs": [
    {
     "data": {
      "text/plain": [
       "RandomForestClassifier(n_estimators=10)"
      ]
     },
     "execution_count": 32,
     "metadata": {},
     "output_type": "execute_result"
    }
   ],
   "source": [
    "# RandomForestClassifier\n",
    "\n",
    "feat_rfc = RandomForestClassifier(n_estimators=10)\n",
    "feat_rfc.fit(feat_X, feat_y)"
   ]
  },
  {
   "cell_type": "code",
   "execution_count": 33,
   "id": "4498b2cf",
   "metadata": {
    "execution": {
     "iopub.execute_input": "2022-03-25T14:54:09.344836Z",
     "iopub.status.busy": "2022-03-25T14:54:09.344293Z",
     "iopub.status.idle": "2022-03-25T14:54:09.851666Z",
     "shell.execute_reply": "2022-03-25T14:54:09.852403Z",
     "shell.execute_reply.started": "2022-03-16T14:33:25.651446Z"
    },
    "papermill": {
     "duration": 2.847459,
     "end_time": "2022-03-25T14:54:09.852600",
     "exception": false,
     "start_time": "2022-03-25T14:54:07.005141",
     "status": "completed"
    },
    "tags": []
   },
   "outputs": [
    {
     "name": "stdout",
     "output_type": "stream",
     "text": [
      "dws: 97.87324092688604%\n",
      "ups: 94.56757753287722%\n",
      "sit: 99.99801036599317%\n",
      "std: 95.93647049775032%\n",
      "wlk: 88.13562070307432%\n",
      "jog: 95.80672141119221%\n",
      "total: 95.70071557909618%\n"
     ]
    }
   ],
   "source": [
    "test_results(feat_rfc, feat_test_df)"
   ]
  },
  {
   "cell_type": "code",
   "execution_count": 34,
   "id": "07005d5e",
   "metadata": {
    "execution": {
     "iopub.execute_input": "2022-03-25T14:54:12.795228Z",
     "iopub.status.busy": "2022-03-25T14:54:12.794659Z",
     "iopub.status.idle": "2022-03-25T14:54:12.841651Z",
     "shell.execute_reply": "2022-03-25T14:54:12.842096Z",
     "shell.execute_reply.started": "2022-03-25T14:19:48.166854Z"
    },
    "papermill": {
     "duration": 1.50737,
     "end_time": "2022-03-25T14:54:12.842242",
     "exception": false,
     "start_time": "2022-03-25T14:54:11.334872",
     "status": "completed"
    },
    "tags": []
   },
   "outputs": [],
   "source": [
    "# CNN Model for feature df:\n",
    "\n",
    "import tensorflow as tf\n",
    "from keras.layers import Dropout\n",
    "\n",
    "extra_features = 21\n",
    "\n",
    "feat_cnn = Sequential()\n",
    "feat_cnn.add(Dense(64, input_dim=7+extra_features, activation='relu'))\n",
    "feat_cnn.add(Dense(48, activation='relu', kernel_regularizer=tf.keras.regularizers.l2(l=0.02)))\n",
    "feat_cnn.add(Dropout(0.2))\n",
    "feat_cnn.add(Dense(32, activation='relu', kernel_regularizer=tf.keras.regularizers.l2(l=0.02)))\n",
    "feat_cnn.add(Dropout(0.5))\n",
    "feat_cnn.add(Dense(16, activation='relu', kernel_regularizer=tf.keras.regularizers.l2(l=0.01)))\n",
    "feat_cnn.add(Dense(6, activation='softmax'))\n",
    "\n",
    "feat_opt = keras.optimizers.Adam(learning_rate=0.01)\n",
    "\n",
    "feat_cnn.compile(loss='categorical_crossentropy', optimizer=feat_opt, metrics=['accuracy'])"
   ]
  },
  {
   "cell_type": "code",
   "execution_count": 35,
   "id": "1e7abb34",
   "metadata": {
    "execution": {
     "iopub.execute_input": "2022-03-25T14:54:16.770047Z",
     "iopub.status.busy": "2022-03-25T14:54:16.769508Z",
     "iopub.status.idle": "2022-03-25T14:54:17.841257Z",
     "shell.execute_reply": "2022-03-25T14:54:17.841626Z",
     "shell.execute_reply.started": "2022-03-25T14:19:51.870391Z"
    },
    "papermill": {
     "duration": 3.309013,
     "end_time": "2022-03-25T14:54:17.841777",
     "exception": false,
     "start_time": "2022-03-25T14:54:14.532764",
     "status": "completed"
    },
    "tags": []
   },
   "outputs": [],
   "source": [
    "feat_encoder = LabelEncoder()\n",
    "feat_encoder.fit(feat_y)\n",
    "feat_encoded_y = feat_encoder.transform(feat_y)\n",
    "\n",
    "feat_dummy_y = np_utils.to_categorical(feat_encoded_y)\n",
    "\n",
    "feat_train_X, feat_val_X, feat_train_y, feat_val_y = train_test_split(feat_X, feat_dummy_y, shuffle=True, random_state=420)"
   ]
  },
  {
   "cell_type": "code",
   "execution_count": 36,
   "id": "0f13f715",
   "metadata": {
    "execution": {
     "iopub.execute_input": "2022-03-25T14:54:20.759332Z",
     "iopub.status.busy": "2022-03-25T14:54:20.758852Z",
     "iopub.status.idle": "2022-03-25T14:54:20.762136Z",
     "shell.execute_reply": "2022-03-25T14:54:20.762556Z",
     "shell.execute_reply.started": "2022-03-25T14:19:58.183015Z"
    },
    "papermill": {
     "duration": 1.467776,
     "end_time": "2022-03-25T14:54:20.762690",
     "exception": false,
     "start_time": "2022-03-25T14:54:19.294914",
     "status": "completed"
    },
    "tags": []
   },
   "outputs": [],
   "source": [
    "from tensorflow.keras.callbacks import EarlyStopping\n",
    "\n",
    "early_stopping = EarlyStopping(min_delta=0.001, patience=10, restore_best_weights=True)"
   ]
  },
  {
   "cell_type": "code",
   "execution_count": 37,
   "id": "e16a176b",
   "metadata": {
    "execution": {
     "iopub.execute_input": "2022-03-25T14:54:23.708426Z",
     "iopub.status.busy": "2022-03-25T14:54:23.707952Z",
     "iopub.status.idle": "2022-03-25T15:05:30.694092Z",
     "shell.execute_reply": "2022-03-25T15:05:30.693547Z",
     "shell.execute_reply.started": "2022-03-25T14:20:01.399838Z"
    },
    "papermill": {
     "duration": 668.435756,
     "end_time": "2022-03-25T15:05:30.694225",
     "exception": false,
     "start_time": "2022-03-25T14:54:22.258469",
     "status": "completed"
    },
    "tags": []
   },
   "outputs": [
    {
     "name": "stdout",
     "output_type": "stream",
     "text": [
      "Epoch 1/50\n",
      "3934/3934 [==============================] - 19s 5ms/step - loss: 0.3402 - accuracy: 0.9372 - val_loss: 0.2092 - val_accuracy: 0.9750\n",
      "Epoch 2/50\n",
      "3934/3934 [==============================] - 18s 5ms/step - loss: 0.2376 - accuracy: 0.9634 - val_loss: 0.2050 - val_accuracy: 0.9761\n",
      "Epoch 3/50\n",
      "3934/3934 [==============================] - 17s 4ms/step - loss: 0.2187 - accuracy: 0.9668 - val_loss: 0.1891 - val_accuracy: 0.9807\n",
      "Epoch 4/50\n",
      "3934/3934 [==============================] - 18s 4ms/step - loss: 0.2113 - accuracy: 0.9676 - val_loss: 0.1580 - val_accuracy: 0.9803\n",
      "Epoch 5/50\n",
      "3934/3934 [==============================] - 18s 5ms/step - loss: 0.2113 - accuracy: 0.9669 - val_loss: 0.1754 - val_accuracy: 0.9790\n",
      "Epoch 6/50\n",
      "3934/3934 [==============================] - 18s 5ms/step - loss: 0.2114 - accuracy: 0.9651 - val_loss: 0.1641 - val_accuracy: 0.9818\n",
      "Epoch 7/50\n",
      "3934/3934 [==============================] - 17s 4ms/step - loss: 0.2125 - accuracy: 0.9635 - val_loss: 0.1473 - val_accuracy: 0.9805\n",
      "Epoch 8/50\n",
      "3934/3934 [==============================] - 18s 5ms/step - loss: 0.2058 - accuracy: 0.9651 - val_loss: 0.1599 - val_accuracy: 0.9818\n",
      "Epoch 9/50\n",
      "3934/3934 [==============================] - 18s 4ms/step - loss: 0.2057 - accuracy: 0.9655 - val_loss: 0.1465 - val_accuracy: 0.9828\n",
      "Epoch 10/50\n",
      "3934/3934 [==============================] - 19s 5ms/step - loss: 0.2008 - accuracy: 0.9656 - val_loss: 0.1442 - val_accuracy: 0.9819\n",
      "Epoch 11/50\n",
      "3934/3934 [==============================] - 19s 5ms/step - loss: 0.2051 - accuracy: 0.9660 - val_loss: 0.1662 - val_accuracy: 0.9816\n",
      "Epoch 12/50\n",
      "3934/3934 [==============================] - 18s 5ms/step - loss: 0.2025 - accuracy: 0.9665 - val_loss: 0.1503 - val_accuracy: 0.9802\n",
      "Epoch 13/50\n",
      "3934/3934 [==============================] - 19s 5ms/step - loss: 0.1995 - accuracy: 0.9672 - val_loss: 0.1695 - val_accuracy: 0.9798\n",
      "Epoch 14/50\n",
      "3934/3934 [==============================] - 17s 4ms/step - loss: 0.1988 - accuracy: 0.9672 - val_loss: 0.1391 - val_accuracy: 0.9823\n",
      "Epoch 15/50\n",
      "3934/3934 [==============================] - 19s 5ms/step - loss: 0.1963 - accuracy: 0.9681 - val_loss: 0.1421 - val_accuracy: 0.9835\n",
      "Epoch 16/50\n",
      "3934/3934 [==============================] - 18s 4ms/step - loss: 0.1988 - accuracy: 0.9676 - val_loss: 0.1445 - val_accuracy: 0.9829\n",
      "Epoch 17/50\n",
      "3934/3934 [==============================] - 19s 5ms/step - loss: 0.2025 - accuracy: 0.9670 - val_loss: 0.1374 - val_accuracy: 0.9829\n",
      "Epoch 18/50\n",
      "3934/3934 [==============================] - 18s 5ms/step - loss: 0.2007 - accuracy: 0.9665 - val_loss: 0.1341 - val_accuracy: 0.9826\n",
      "Epoch 19/50\n",
      "3934/3934 [==============================] - 18s 5ms/step - loss: 0.2014 - accuracy: 0.9668 - val_loss: 0.1355 - val_accuracy: 0.9820\n",
      "Epoch 20/50\n",
      "3934/3934 [==============================] - 17s 4ms/step - loss: 0.2013 - accuracy: 0.9673 - val_loss: 0.1384 - val_accuracy: 0.9826\n",
      "Epoch 21/50\n",
      "3934/3934 [==============================] - 18s 5ms/step - loss: 0.2017 - accuracy: 0.9669 - val_loss: 0.1467 - val_accuracy: 0.9829\n",
      "Epoch 22/50\n",
      "3934/3934 [==============================] - 18s 5ms/step - loss: 0.2067 - accuracy: 0.9659 - val_loss: 0.1333 - val_accuracy: 0.9840\n",
      "Epoch 23/50\n",
      "3934/3934 [==============================] - 20s 5ms/step - loss: 0.2092 - accuracy: 0.9654 - val_loss: 0.1430 - val_accuracy: 0.9828\n",
      "Epoch 24/50\n",
      "3934/3934 [==============================] - 19s 5ms/step - loss: 0.2077 - accuracy: 0.9652 - val_loss: 0.1461 - val_accuracy: 0.9830\n",
      "Epoch 25/50\n",
      "3934/3934 [==============================] - 19s 5ms/step - loss: 0.2047 - accuracy: 0.9659 - val_loss: 0.1365 - val_accuracy: 0.9841\n",
      "Epoch 26/50\n",
      "3934/3934 [==============================] - 18s 5ms/step - loss: 0.2052 - accuracy: 0.9659 - val_loss: 0.1275 - val_accuracy: 0.9846\n",
      "Epoch 27/50\n",
      "3934/3934 [==============================] - 20s 5ms/step - loss: 0.2151 - accuracy: 0.9638 - val_loss: 0.1443 - val_accuracy: 0.9833\n",
      "Epoch 28/50\n",
      "3934/3934 [==============================] - 18s 5ms/step - loss: 0.2046 - accuracy: 0.9651 - val_loss: 0.1416 - val_accuracy: 0.9840\n",
      "Epoch 29/50\n",
      "3934/3934 [==============================] - 19s 5ms/step - loss: 0.2036 - accuracy: 0.9659 - val_loss: 0.1345 - val_accuracy: 0.9826\n",
      "Epoch 30/50\n",
      "3934/3934 [==============================] - 18s 5ms/step - loss: 0.2092 - accuracy: 0.9641 - val_loss: 0.1387 - val_accuracy: 0.9839\n",
      "Epoch 31/50\n",
      "3934/3934 [==============================] - 19s 5ms/step - loss: 0.2141 - accuracy: 0.9634 - val_loss: 0.1431 - val_accuracy: 0.9830\n",
      "Epoch 32/50\n",
      "3934/3934 [==============================] - 18s 5ms/step - loss: 0.2105 - accuracy: 0.9645 - val_loss: 0.1409 - val_accuracy: 0.9822\n",
      "Epoch 33/50\n",
      "3934/3934 [==============================] - 19s 5ms/step - loss: 0.2089 - accuracy: 0.9649 - val_loss: 0.1493 - val_accuracy: 0.9821\n",
      "Epoch 34/50\n",
      "3934/3934 [==============================] - 19s 5ms/step - loss: 0.2109 - accuracy: 0.9642 - val_loss: 0.1529 - val_accuracy: 0.9829\n",
      "Epoch 35/50\n",
      "3934/3934 [==============================] - 19s 5ms/step - loss: 0.2104 - accuracy: 0.9645 - val_loss: 0.1349 - val_accuracy: 0.9837\n",
      "Epoch 36/50\n",
      "3934/3934 [==============================] - 19s 5ms/step - loss: 0.2065 - accuracy: 0.9649 - val_loss: 0.1516 - val_accuracy: 0.9832\n"
     ]
    },
    {
     "data": {
      "image/png": "[encoded data removed]",
      "text/plain": [
       "<Figure size 432x288 with 1 Axes>"
      ]
     },
     "metadata": {
      "needs_background": "light"
     },
     "output_type": "display_data"
    }
   ],
   "source": [
    "history = feat_cnn.fit(feat_train_X, feat_train_y, epochs=50, batch_size=200, validation_data=(feat_val_X, feat_val_y), callbacks=[early_stopping])\n",
    "history_df = pd.DataFrame(history.history)\n",
    "history_df.loc[:, ['loss', 'val_loss']].plot()\n",
    "plt.show()"
   ]
  },
  {
   "cell_type": "code",
   "execution_count": 38,
   "id": "54c916af",
   "metadata": {
    "execution": {
     "iopub.execute_input": "2022-03-25T15:05:40.434919Z",
     "iopub.status.busy": "2022-03-25T15:05:40.434417Z",
     "iopub.status.idle": "2022-03-25T15:05:55.591763Z",
     "shell.execute_reply": "2022-03-25T15:05:55.592296Z",
     "shell.execute_reply.started": "2022-03-25T14:31:01.565451Z"
    },
    "papermill": {
     "duration": 20.063907,
     "end_time": "2022-03-25T15:05:55.592527",
     "exception": false,
     "start_time": "2022-03-25T15:05:35.528620",
     "status": "completed"
    },
    "tags": []
   },
   "outputs": [
    {
     "name": "stdout",
     "output_type": "stream",
     "text": [
      "dws: 98.9948153634536%\n",
      "ups: 90.48301855872833%\n",
      "sit: 100.0%\n",
      "std: 96.01851021009857%\n",
      "wlk: 94.42534699701648%\n",
      "jog: 95.36192214111922%\n",
      "total: 96.68290195243029%\n"
     ]
    }
   ],
   "source": [
    "cnn_test_results(feat_cnn, feat_test_df)"
   ]
  },
  {
   "cell_type": "markdown",
   "id": "9962b06e",
   "metadata": {
    "papermill": {
     "duration": 6.365576,
     "end_time": "2022-03-25T15:06:07.412673",
     "exception": false,
     "start_time": "2022-03-25T15:06:01.047097",
     "status": "completed"
    },
    "tags": []
   },
   "source": [
    "Best CNN test result: (results varied with the same model given the stochastic nature of training)\n",
    "\n",
    "(rolling 150 / 7 + 21 features / 5 layer (64-48-32-16-6) / all relu activations / 3 * L2 Reg (0.2 + 0.1) / 2 * dropout (0.2 + 0.5) / batch_size=200 / early_stopping callback after 18 epochs)\n",
    "\n",
    "- dws: 98.560998836102%\n",
    "- ups: 95.52214347167029%\n",
    "- sit: 100.0%\n",
    "- std: 96.04542949071285%\n",
    "- wlk: 95.69983136593592%\n",
    "- jog: 96.79516423357664%\n",
    "- total: 97.43559949518912%"
   ]
  },
  {
   "cell_type": "code",
   "execution_count": 39,
   "id": "9e7dcf16",
   "metadata": {
    "execution": {
     "iopub.execute_input": "2022-03-25T15:06:22.050633Z",
     "iopub.status.busy": "2022-03-25T15:06:22.049989Z",
     "iopub.status.idle": "2022-03-25T15:06:39.160253Z",
     "shell.execute_reply": "2022-03-25T15:06:39.159789Z",
     "shell.execute_reply.started": "2022-03-22T15:19:54.489722Z"
    },
    "papermill": {
     "duration": 24.471329,
     "end_time": "2022-03-25T15:06:39.160378",
     "exception": false,
     "start_time": "2022-03-25T15:06:14.689049",
     "status": "completed"
    },
    "tags": []
   },
   "outputs": [],
   "source": [
    "feat_pred, feat_targ = cnn_pred_list(feat_cnn, feat_test_df)"
   ]
  },
  {
   "cell_type": "code",
   "execution_count": 40,
   "id": "643a52c0",
   "metadata": {
    "execution": {
     "iopub.execute_input": "2022-03-25T15:06:50.323445Z",
     "iopub.status.busy": "2022-03-25T15:06:50.322934Z",
     "iopub.status.idle": "2022-03-25T15:06:51.081279Z",
     "shell.execute_reply": "2022-03-25T15:06:51.080859Z",
     "shell.execute_reply.started": "2022-03-18T12:19:30.526115Z"
    },
    "papermill": {
     "duration": 6.57709,
     "end_time": "2022-03-25T15:06:51.081390",
     "exception": false,
     "start_time": "2022-03-25T15:06:44.504300",
     "status": "completed"
    },
    "tags": []
   },
   "outputs": [
    {
     "data": {
      "image/png": "[encoded data removed]",
      "text/plain": [
       "<Figure size 432x288 with 2 Axes>"
      ]
     },
     "metadata": {
      "needs_background": "light"
     },
     "output_type": "display_data"
    }
   ],
   "source": [
    "# Confusion Matrix:\n",
    "\n",
    "conf_mat = confusion_matrix(feat_pred, feat_targ, labels=activities)\n",
    "conf_mat_disp = ConfusionMatrixDisplay(confusion_matrix=conf_mat, display_labels=activities)\n",
    "conf_mat_disp.plot(cmap='Greens')\n",
    "plt.show()"
   ]
  },
  {
   "cell_type": "markdown",
   "id": "f4660b97",
   "metadata": {
    "papermill": {
     "duration": 4.795034,
     "end_time": "2022-03-25T15:07:00.753339",
     "exception": false,
     "start_time": "2022-03-25T15:06:55.958305",
     "status": "completed"
    },
    "tags": []
   },
   "source": [
    "# Conclusion\n",
    "\n",
    "I experimented a lot with different amounts of layers, neurons in each layer, activation functions, regularization and dropout rate. Also the amount of rows used for the rolling features made a difference. To document some thoughts:\n",
    "\n",
    "- Rolling features: While the types of rolling features were pretty much fixed after varying those a bit, I mostly changed the amount of steps to go back within the rolling functions. 150 steps worked pretty well, which equals 3 seconds of motion data (recorded at 50 Hz). I tried 250 steps (5 seconds of motion data) which improved some models, but not all of them and going even higher, up to 350 didn't show an improvement over the smaller steps.\n",
    "\n",
    "- Regularization: The L2 regularization improved the results. L1 (which can put some weights to zero) not so much, so I mostly left that out. L2 had good results for the default value of 0.01 but even slightly better when increasing. 0.02 seemed like a good choice to me.\n",
    "\n",
    "- Dropout: I only added dropout layers when starting experimenting with rolling features and they had positive impact on the results. A variation of higher and lower dropout between layers seem to work well, but I didn't investigate this too deep.\n",
    "\n",
    "- Activation functions: I tried everything from relu, elu, selu, sigmoid and tanh and while results differed and in some models different activation functions worked well, I stuck with relu in the end which gave me the most reliable results.\n",
    "\n",
    "- Layers & neurons: This was the part I experimented the most on. Without input and output layer, I varied between 1-5 hidden layers. While 1 was too little, going above 4 seemed to overcomplicate things. But I also had good results with up to 5 hidden layers. My best model had 3. With neurons per layer I also had a lot of variation. Some models performed well with layers with over 100 neurons (I tried up to 512), but in my best model the biggest layer only had 64.\n",
    "\n",
    "- Callback: The callback function early_stopping was only implemented at the very end, so I could increase the amount of epochs without worrying about overfitting. It worked very well, never reaching the full 50 epochs, and I will remember to use this for any future models.\n",
    "\n",
    "In the end, 97.4% overall accuracy and more importantly at least 95.5% on every activity was the best result I achieved. Higher accuracy in some activities often resulted in much lower accuracy (87-90%) in other activities, which were generally the hard to distinguish ones (dws, ups, wlk). Regarding the amount of tries and the given input data, I believe this was the best I could achieve with this model and my given state of knowledge.\n",
    "\n",
    "Let me know if there is anything I haven't considered. Thanks for reading."
   ]
  }
 ],
 "metadata": {
  "kernelspec": {
   "display_name": "Python 3 (ipykernel)",
   "language": "python",
   "name": "python3"
  },
  "language_info": {
   "codemirror_mode": {
    "name": "ipython",
    "version": 3
   },
   "file_extension": ".py",
   "mimetype": "text/x-python",
   "name": "python",
   "nbconvert_exporter": "python",
   "pygments_lexer": "ipython3",
   "version": "3.10.9"
  },
  "papermill": {
   "default_parameters": {},
   "duration": 1716.979179,
   "end_time": "2022-03-25T15:07:08.457718",
   "environment_variables": {},
   "exception": null,
   "input_path": "__notebook__.ipynb",
   "output_path": "__notebook__.ipynb",
   "parameters": {},
   "start_time": "2022-03-25T14:38:31.478539",
   "version": "2.3.3"
  }
 },
 "nbformat": 4,
 "nbformat_minor": 5
}
